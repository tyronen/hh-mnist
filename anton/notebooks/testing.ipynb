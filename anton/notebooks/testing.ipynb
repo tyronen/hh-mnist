{
 "cells": [
  {
   "cell_type": "code",
   "execution_count": 1,
   "id": "a71de15d",
   "metadata": {},
   "outputs": [],
   "source": [
    "%reload_ext autoreload\n",
    "%autoreload 2"
   ]
  },
  {
   "cell_type": "code",
   "execution_count": 2,
   "id": "9edb9ebb",
   "metadata": {},
   "outputs": [],
   "source": [
    "import torch\n",
    "import torch.nn as nn\n",
    "import matplotlib.pyplot as plt"
   ]
  },
  {
   "cell_type": "code",
   "execution_count": 3,
   "id": "73a11a14",
   "metadata": {},
   "outputs": [],
   "source": [
    "import sys\n",
    "import os\n",
    "\n",
    "src_path = os.path.abspath(\"../src\")\n",
    "if src_path not in sys.path:\n",
    "    sys.path.insert(0, src_path)"
   ]
  },
  {
   "cell_type": "code",
   "execution_count": 5,
   "id": "c63d0c55",
   "metadata": {},
   "outputs": [],
   "source": [
    "from data import load_mnist_dataloaders, unpatchify"
   ]
  },
  {
   "cell_type": "code",
   "execution_count": 61,
   "id": "b760c429",
   "metadata": {},
   "outputs": [],
   "source": [
    "cache_dir = os.path.expanduser(\"~/experiment_data/datasets\")"
   ]
  },
  {
   "cell_type": "code",
   "execution_count": 39,
   "id": "c8a0b175",
   "metadata": {},
   "outputs": [],
   "source": [
    "def tensor_to_str(x):\n",
    "    if x.dim() == 0:\n",
    "        return str(x.item())\n",
    "    else:\n",
    "        return ','.join(str(i.item()) for i in x)\n",
    "\n",
    "def show_first_image(data_loader, patch_size=14):\n",
    "    # Get the first batch from data_loader\n",
    "    images, labels = next(iter(data_loader))\n",
    "\n",
    "    print(\"Image shape: \", images[0].shape)\n",
    "\n",
    "    plt.imshow(unpatchify(images[0]).squeeze(), cmap='gray')\n",
    "    plt.title(f'Label: {tensor_to_str(labels[0])}')\n",
    "    plt.axis('off')\n",
    "    plt.show()"
   ]
  },
  {
   "cell_type": "code",
   "execution_count": 40,
   "id": "28026332",
   "metadata": {},
   "outputs": [
    {
     "name": "stdout",
     "output_type": "stream",
     "text": [
      "Image shape:  torch.Size([4, 196])\n"
     ]
    },
    {
     "data": {
      "image/png": "[encoded data removed]",
      "text/plain": [
       "<Figure size 640x480 with 1 Axes>"
      ]
     },
     "metadata": {},
     "output_type": "display_data"
    }
   ],
   "source": [
    "train_loader_image_classification, _, _ = load_mnist_dataloaders(cache_dir)\n",
    "show_first_image(train_loader_image_classification)"
   ]
  },
  {
   "cell_type": "code",
   "execution_count": 63,
   "id": "f5df90b6",
   "metadata": {},
   "outputs": [
    {
     "name": "stdout",
     "output_type": "stream",
     "text": [
      "Generating composite dataset: /Users/anton/experiment_data/datasets/MNIST/d5833fd2a1071c5cfd7909735a89a1b6.pkl\n"
     ]
    },
    {
     "name": "stderr",
     "output_type": "stream",
     "text": [
      "Generating composite MNIST: 100%|██████████| 10000/10000 [00:02<00:00, 3337.18it/s]\n"
     ]
    },
    {
     "name": "stdout",
     "output_type": "stream",
     "text": [
      "Generating composite dataset: /Users/anton/experiment_data/datasets/MNIST/d42c047e612e9d8ad30138e6816454c5.pkl\n"
     ]
    },
    {
     "name": "stderr",
     "output_type": "stream",
     "text": [
      "Generating composite MNIST: 100%|██████████| 2000/2000 [00:00<00:00, 3689.24it/s]\n"
     ]
    },
    {
     "name": "stdout",
     "output_type": "stream",
     "text": [
      "Image shape:  torch.Size([16, 196])\n"
     ]
    },
    {
     "data": {
      "image/png": "[encoded data removed]",
      "text/plain": [
       "<Figure size 640x480 with 1 Axes>"
      ]
     },
     "metadata": {},
     "output_type": "display_data"
    }
   ],
   "source": [
    "train_loader_composite_fixed, _, _ = load_mnist_dataloaders(\n",
    "    cache_dir,\n",
    "    composite_mode=True,\n",
    "    canvas_size=(56, 56),\n",
    "    num_digits=4,\n",
    "    placement='grid'  # or 'random'\n",
    ")\n",
    "show_first_image(train_loader_composite_fixed)"
   ]
  },
  {
   "cell_type": "code",
   "execution_count": 64,
   "id": "c037254f",
   "metadata": {},
   "outputs": [
    {
     "name": "stdout",
     "output_type": "stream",
     "text": [
      "Generating composite dataset: /Users/anton/experiment_data/datasets/MNIST/725c29bdc0522b33c1cce2f3d57d0adc.pkl\n"
     ]
    },
    {
     "name": "stderr",
     "output_type": "stream",
     "text": [
      "Generating composite MNIST: 100%|██████████| 10000/10000 [00:03<00:00, 2694.86it/s]\n"
     ]
    },
    {
     "name": "stdout",
     "output_type": "stream",
     "text": [
      "Generating composite dataset: /Users/anton/experiment_data/datasets/MNIST/b757f040f5c004dfca8e8b11094894ae.pkl\n"
     ]
    },
    {
     "name": "stderr",
     "output_type": "stream",
     "text": [
      "Generating composite MNIST: 100%|██████████| 2000/2000 [00:00<00:00, 2835.98it/s]\n"
     ]
    },
    {
     "name": "stdout",
     "output_type": "stream",
     "text": [
      "Image shape:  torch.Size([36, 196])\n"
     ]
    },
    {
     "data": {
      "image/png": "[encoded data removed]",
      "text/plain": [
       "<Figure size 640x480 with 1 Axes>"
      ]
     },
     "metadata": {},
     "output_type": "display_data"
    }
   ],
   "source": [
    "train_loader_composite_random, _, _ = load_mnist_dataloaders(\n",
    "    cache_dir,\n",
    "    composite_mode=True,\n",
    "    canvas_size=(84, 84),\n",
    "    num_digits_range=(5, 9),\n",
    "    placement='random'\n",
    ")\n",
    "show_first_image(train_loader_composite_random)"
   ]
  },
  {
   "cell_type": "code",
   "execution_count": null,
   "id": "8d7ad8fd",
   "metadata": {},
   "outputs": [],
   "source": []
  }
 ],
 "metadata": {
  "kernelspec": {
   "display_name": ".venv",
   "language": "python",
   "name": "python3"
  },
  "language_info": {
   "codemirror_mode": {
    "name": "ipython",
    "version": 3
   },
   "file_extension": ".py",
   "mimetype": "text/x-python",
   "name": "python",
   "nbconvert_exporter": "python",
   "pygments_lexer": "ipython3",
   "version": "3.11.9"
  }
 },
 "nbformat": 4,
 "nbformat_minor": 5
}
