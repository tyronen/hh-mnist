{
 "cells": [
  {
   "cell_type": "code",
   "id": "initial_id",
   "metadata": {
    "collapsed": true,
    "ExecuteTime": {
     "end_time": "2025-06-23T14:17:01.793162Z",
     "start_time": "2025-06-23T14:17:00.641867Z"
    }
   },
   "source": [
    "import torch\n",
    "import torch.nn as nn\n",
    "from torchvision import datasets\n",
    "from torchvision.transforms import v2\n",
    "%matplotlib inline\n",
    "import matplotlib.pyplot as plt\n",
    "from torch import optim\n",
    "from torch.utils.data import DataLoader"
   ],
   "outputs": [],
   "execution_count": 1
  },
  {
   "metadata": {
    "ExecuteTime": {
     "end_time": "2025-06-23T14:17:01.853145Z",
     "start_time": "2025-06-23T14:17:01.848786Z"
    }
   },
   "cell_type": "code",
   "source": [
    "transform = v2.Compose([v2.ToImage(), v2.ToDtype(torch.float32, scale=True)])\n",
    "test_data = datasets.MNIST(\n",
    "    root=\"data\", train=False, download=True, transform=transform\n",
    ")\n",
    "test_dataloader = DataLoader(test_data, batch_size=64, shuffle=False)\n"
   ],
   "id": "ee6f59aa199d6bdf",
   "outputs": [],
   "execution_count": 2
  },
  {
   "metadata": {
    "ExecuteTime": {
     "end_time": "2025-06-23T14:17:01.865278Z",
     "start_time": "2025-06-23T14:17:01.860211Z"
    }
   },
   "cell_type": "code",
   "source": "images, labels = next(iter(test_dataloader))",
   "id": "64ece317c38f5463",
   "outputs": [],
   "execution_count": 3
  },
  {
   "metadata": {
    "ExecuteTime": {
     "end_time": "2025-06-23T14:17:01.873823Z",
     "start_time": "2025-06-23T14:17:01.871456Z"
    }
   },
   "cell_type": "code",
   "source": "images.shape\n",
   "id": "4d19019a607f0e53",
   "outputs": [
    {
     "data": {
      "text/plain": [
       "torch.Size([64, 1, 28, 28])"
      ]
     },
     "execution_count": 4,
     "metadata": {},
     "output_type": "execute_result"
    }
   ],
   "execution_count": 4
  },
  {
   "metadata": {
    "ExecuteTime": {
     "end_time": "2025-06-23T14:17:01.884291Z",
     "start_time": "2025-06-23T14:17:01.882573Z"
    }
   },
   "cell_type": "code",
   "source": "labels.shape",
   "id": "9d5cefa663e6a97a",
   "outputs": [
    {
     "data": {
      "text/plain": [
       "torch.Size([64])"
      ]
     },
     "execution_count": 5,
     "metadata": {},
     "output_type": "execute_result"
    }
   ],
   "execution_count": 5
  },
  {
   "metadata": {
    "ExecuteTime": {
     "end_time": "2025-06-23T14:18:54.904988Z",
     "start_time": "2025-06-23T14:18:54.900829Z"
    }
   },
   "cell_type": "code",
   "source": "labels",
   "id": "7ae728ba7a82990d",
   "outputs": [
    {
     "data": {
      "text/plain": [
       "tensor([7, 2, 1, 0, 4, 1, 4, 9, 5, 9, 0, 6, 9, 0, 1, 5, 9, 7, 3, 4, 9, 6, 6, 5,\n",
       "        4, 0, 7, 4, 0, 1, 3, 1, 3, 4, 7, 2, 7, 1, 2, 1, 1, 7, 4, 2, 3, 5, 1, 2,\n",
       "        4, 4, 6, 3, 5, 5, 6, 0, 4, 1, 9, 5, 7, 8, 9, 3])"
      ]
     },
     "execution_count": 26,
     "metadata": {},
     "output_type": "execute_result"
    }
   ],
   "execution_count": 26
  },
  {
   "metadata": {
    "ExecuteTime": {
     "end_time": "2025-06-23T14:17:01.947249Z",
     "start_time": "2025-06-23T14:17:01.909899Z"
    }
   },
   "cell_type": "code",
   "source": [
    "plt.imshow(images[0].reshape(28,28), cmap=\"gray\")\n",
    "plt.show()"
   ],
   "id": "1181bf8839d64f5e",
   "outputs": [
    {
     "data": {
      "text/plain": [
       "<Figure size 640x480 with 1 Axes>"
      ],
      "image/png": "[encoded data removed]"
     },
     "metadata": {},
     "output_type": "display_data"
    }
   ],
   "execution_count": 7
  },
  {
   "metadata": {
    "ExecuteTime": {
     "end_time": "2025-06-23T14:17:01.955654Z",
     "start_time": "2025-06-23T14:17:01.954230Z"
    }
   },
   "cell_type": "code",
   "source": "image = images[0]",
   "id": "284642f221bc2d9f",
   "outputs": [],
   "execution_count": 8
  },
  {
   "metadata": {
    "ExecuteTime": {
     "end_time": "2025-06-23T14:17:01.967631Z",
     "start_time": "2025-06-23T14:17:01.966302Z"
    }
   },
   "cell_type": "code",
   "source": "c, h, w = image.shape",
   "id": "20375536221c1e0a",
   "outputs": [],
   "execution_count": 9
  },
  {
   "metadata": {
    "ExecuteTime": {
     "end_time": "2025-06-23T14:17:01.978083Z",
     "start_time": "2025-06-23T14:17:01.975447Z"
    }
   },
   "cell_type": "code",
   "source": [
    "unfolder = nn.Unfold(kernel_size=14, stride=14)\n",
    "patches = unfolder(images)"
   ],
   "id": "68392518278de410",
   "outputs": [],
   "execution_count": 10
  },
  {
   "metadata": {
    "ExecuteTime": {
     "end_time": "2025-06-23T14:17:01.987568Z",
     "start_time": "2025-06-23T14:17:01.985543Z"
    }
   },
   "cell_type": "code",
   "source": "patches.shape",
   "id": "5d6aaf2292384288",
   "outputs": [
    {
     "data": {
      "text/plain": [
       "torch.Size([64, 196, 4])"
      ]
     },
     "execution_count": 11,
     "metadata": {},
     "output_type": "execute_result"
    }
   ],
   "execution_count": 11
  },
  {
   "metadata": {
    "ExecuteTime": {
     "end_time": "2025-06-23T14:17:01.996173Z",
     "start_time": "2025-06-23T14:17:01.994658Z"
    }
   },
   "cell_type": "code",
   "source": "rotated = patches.permute(0, 2, 1)",
   "id": "3d53b40168095fac",
   "outputs": [],
   "execution_count": 12
  },
  {
   "metadata": {
    "ExecuteTime": {
     "end_time": "2025-06-23T14:17:02.005704Z",
     "start_time": "2025-06-23T14:17:02.003960Z"
    }
   },
   "cell_type": "code",
   "source": "rotated.shape",
   "id": "dda1167e320d3ce3",
   "outputs": [
    {
     "data": {
      "text/plain": [
       "torch.Size([64, 4, 196])"
      ]
     },
     "execution_count": 13,
     "metadata": {},
     "output_type": "execute_result"
    }
   ],
   "execution_count": 13
  },
  {
   "metadata": {
    "ExecuteTime": {
     "end_time": "2025-06-23T14:17:02.014613Z",
     "start_time": "2025-06-23T14:17:02.012801Z"
    }
   },
   "cell_type": "code",
   "source": "linear = nn.Linear(196, 64, bias=False)",
   "id": "88f52e346db9cef",
   "outputs": [],
   "execution_count": 14
  },
  {
   "metadata": {
    "ExecuteTime": {
     "end_time": "2025-06-23T14:17:02.023204Z",
     "start_time": "2025-06-23T14:17:02.021594Z"
    }
   },
   "cell_type": "code",
   "source": "result = linear(rotated)",
   "id": "86959122f347d5ad",
   "outputs": [],
   "execution_count": 15
  },
  {
   "metadata": {
    "ExecuteTime": {
     "end_time": "2025-06-23T14:17:02.032206Z",
     "start_time": "2025-06-23T14:17:02.030529Z"
    }
   },
   "cell_type": "code",
   "source": "result.shape",
   "id": "192b6f975bcf9468",
   "outputs": [
    {
     "data": {
      "text/plain": [
       "torch.Size([64, 4, 64])"
      ]
     },
     "execution_count": 16,
     "metadata": {},
     "output_type": "execute_result"
    }
   ],
   "execution_count": 16
  },
  {
   "metadata": {
    "ExecuteTime": {
     "end_time": "2025-06-23T14:17:02.041874Z",
     "start_time": "2025-06-23T14:17:02.040125Z"
    }
   },
   "cell_type": "code",
   "source": "rotated[0].shape",
   "id": "b4c0dc3548e3b2c",
   "outputs": [
    {
     "data": {
      "text/plain": [
       "torch.Size([4, 196])"
      ]
     },
     "execution_count": 17,
     "metadata": {},
     "output_type": "execute_result"
    }
   ],
   "execution_count": 17
  },
  {
   "metadata": {
    "ExecuteTime": {
     "end_time": "2025-06-23T14:17:02.053913Z",
     "start_time": "2025-06-23T14:17:02.051813Z"
    }
   },
   "cell_type": "code",
   "source": "import models",
   "id": "c33f8be1c847b2c9",
   "outputs": [],
   "execution_count": 18
  },
  {
   "metadata": {
    "ExecuteTime": {
     "end_time": "2025-06-23T14:17:02.083780Z",
     "start_time": "2025-06-23T14:17:02.082424Z"
    }
   },
   "cell_type": "code",
   "source": "loss_fn = nn.CrossEntropyLoss()",
   "id": "655782b4f982881",
   "outputs": [],
   "execution_count": 21
  },
  {
   "metadata": {
    "ExecuteTime": {
     "end_time": "2025-06-23T14:23:05.696991Z",
     "start_time": "2025-06-23T14:23:05.688050Z"
    }
   },
   "cell_type": "code",
   "source": [
    "patchify = models.Patchify()\n",
    "encoders = nn.ModuleList([models.Encoder() for _ in range(6)])\n",
    "linear = nn.Linear(64, 10)\n",
    "patched = patchify(images)\n",
    "for encoder in encoders:\n",
    "    patched = encoder(patched)\n",
    "result = linear(patched)"
   ],
   "id": "b03035f93a60f5ca",
   "outputs": [],
   "execution_count": 37
  },
  {
   "metadata": {
    "ExecuteTime": {
     "end_time": "2025-06-23T14:23:07.536278Z",
     "start_time": "2025-06-23T14:23:07.533117Z"
    }
   },
   "cell_type": "code",
   "source": "result.shape",
   "id": "a924866187b41e8b",
   "outputs": [
    {
     "data": {
      "text/plain": [
       "torch.Size([64, 4, 10])"
      ]
     },
     "execution_count": 38,
     "metadata": {},
     "output_type": "execute_result"
    }
   ],
   "execution_count": 38
  },
  {
   "metadata": {
    "ExecuteTime": {
     "end_time": "2025-06-23T14:23:50.214701Z",
     "start_time": "2025-06-23T14:23:50.212269Z"
    }
   },
   "cell_type": "code",
   "source": "meaned = result.mean(dim=1)",
   "id": "f2dfefc42709ab15",
   "outputs": [],
   "execution_count": 39
  },
  {
   "metadata": {
    "ExecuteTime": {
     "end_time": "2025-06-23T14:23:53.279754Z",
     "start_time": "2025-06-23T14:23:53.277414Z"
    }
   },
   "cell_type": "code",
   "source": "meaned.shape",
   "id": "58b492cbc9d0e660",
   "outputs": [
    {
     "data": {
      "text/plain": [
       "torch.Size([64, 10])"
      ]
     },
     "execution_count": 40,
     "metadata": {},
     "output_type": "execute_result"
    }
   ],
   "execution_count": 40
  },
  {
   "metadata": {
    "ExecuteTime": {
     "end_time": "2025-06-23T14:24:18.203758Z",
     "start_time": "2025-06-23T14:24:18.199975Z"
    }
   },
   "cell_type": "code",
   "source": "labels.shape",
   "id": "9d1c927f080af97f",
   "outputs": [
    {
     "data": {
      "text/plain": [
       "torch.Size([64])"
      ]
     },
     "execution_count": 42,
     "metadata": {},
     "output_type": "execute_result"
    }
   ],
   "execution_count": 42
  },
  {
   "metadata": {
    "ExecuteTime": {
     "end_time": "2025-06-23T14:24:39.536016Z",
     "start_time": "2025-06-23T14:24:39.534388Z"
    }
   },
   "cell_type": "code",
   "source": "loss_fn = nn.CrossEntropyLoss()",
   "id": "f62a30902f0845f4",
   "outputs": [],
   "execution_count": 43
  },
  {
   "metadata": {
    "ExecuteTime": {
     "end_time": "2025-06-23T14:25:09.640611Z",
     "start_time": "2025-06-23T14:25:09.638395Z"
    }
   },
   "cell_type": "code",
   "source": "loss= loss_fn(meaned, labels)",
   "id": "8957374f3cada625",
   "outputs": [],
   "execution_count": 45
  },
  {
   "metadata": {
    "ExecuteTime": {
     "end_time": "2025-06-23T14:25:11.074657Z",
     "start_time": "2025-06-23T14:25:11.053567Z"
    }
   },
   "cell_type": "code",
   "source": "loss.backward()",
   "id": "d31088927741a88f",
   "outputs": [],
   "execution_count": 46
  },
  {
   "metadata": {},
   "cell_type": "code",
   "outputs": [],
   "execution_count": null,
   "source": "",
   "id": "4fdd55715722d0f7"
  }
 ],
 "metadata": {
  "kernelspec": {
   "display_name": "Python 3",
   "language": "python",
   "name": "python3"
  },
  "language_info": {
   "codemirror_mode": {
    "name": "ipython",
    "version": 2
   },
   "file_extension": ".py",
   "mimetype": "text/x-python",
   "name": "python",
   "nbconvert_exporter": "python",
   "pygments_lexer": "ipython2",
   "version": "2.7.6"
  }
 },
 "nbformat": 4,
 "nbformat_minor": 5
}
