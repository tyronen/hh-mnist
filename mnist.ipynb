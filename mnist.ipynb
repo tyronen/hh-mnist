{
  "cells": [
    {
      "cell_type": "code",
      "execution_count": 108,
      "id": "initial_id",
      "metadata": {
        "ExecuteTime": {
<<<<<<< Updated upstream
     "end_time": "2025-06-23T16:01:22.195940Z",
          "start_time": "2025-06-23T16:01:22.191291Z"
        }
=======
     "end_time": "2025-06-23T14:17:01.793162Z",
        "start_time": "2025-06-23T14:17:00.641867Z"
      },
      "collapsed": true
>>>>>>> Stashed changes
    },
    "outputs": [],
    "source": [
      "import math\n",
      "import torch\n",
      "import torch.nn as nn\n",
      "from torchvision import datasets\n",
      "from torchvision.transforms import v2\n",
      "%matplotlib inline\n",
      "import matplotlib.pyplot as plt\n",
<<<<<<< Updated upstream
    "from torch import optim\n",
      "from torch.utils.data import DataLoader, TensorDataset"
    ],
    "outputs": [],
    "execution_count": 4
=======
    "from torch.utils.data import DataLoader"
  ]
>>>>>>> Stashed changes
},
{
  "cell_type": "code",
  "execution_count": 61,
  "id": "ee6f59aa199d6bdf",
  "metadata": {
    "ExecuteTime": {
      "end_time": "2025-06-23T14:17:01.853145Z",
      "start_time": "2025-06-23T14:17:01.848786Z"
    }
  },
  "outputs": [],
  "source": [
    "transform = v2.Compose([v2.ToImage(), v2.ToDtype(torch.float32, scale=True)])\n",
    "test_data = datasets.MNIST(\n",
    "    root=\"data\", train=False, download=True, transform=transform\n",
    ")\n",
    "test_dataloader = DataLoader(test_data, batch_size=64, shuffle=False)\n"
  ]
},
{
  "cell_type": "code",
  "execution_count": 62,
  "id": "64ece317c38f5463",
  "metadata": {
    "ExecuteTime": {
      "end_time": "2025-06-23T16:02:53.987712Z",
      "start_time": "2025-06-23T16:02:53.966194Z"
    }
  },
  "cell_type": "code",
  "source": [
    "composite_data = torch.load('data/composite_test.pt')\n",
    "composite_dataset = TensorDataset(composite_data['images'], composite_data['labels'])\n",
    "composite_dataloader = DataLoader(composite_dataset, batch_size=64, shuffle=False)"
  ],
  "id": "69f08b496482577e",
  "outputs": [],
  "execution_count": 7
},
{
  "metadata": {
    "ExecuteTime": {
      "end_time": "2025-06-23T14:17:01.865278Z",
      "start_time": "2025-06-23T14:17:01.860211Z"
    }
  },
  "outputs": [],
  "source": [
    "images, labels = next(iter(test_dataloader))"
  ]
},
{
  "cell_type": "code",
  "execution_count": 63,
  "id": "4d19019a607f0e53",
  "metadata": {
    "ExecuteTime": {
      "end_time": "2025-06-23T16:02:55.698158Z",
      "start_time": "2025-06-23T16:02:55.695785Z"
    }
  },
  "cell_type": "code",
  "source": "images, labels = next(iter(composite_dataloader))",
  "id": "4a367a6971d3e170",
  "outputs": [],
  "execution_count": 8
},
{
  "metadata": {
    "ExecuteTime": {
      "end_time": "2025-06-23T16:02:58.376416Z",
      "start_time": "2025-06-23T16:02:58.372992Z"
    }
  },
  "outputs": [
    {
      "data": {
        "text/plain": [
          "torch.Size([64, 1, 56, 56])"
        ]
      },
<<<<<<< Updated upstream
     "execution_count": 9,
=======
     "execution_count": 63,
>>>>>>> Stashed changes
     "metadata": {},
      "output_type": "execute_result"
    }
  ],
<<<<<<< Updated upstream
   "execution_count": 9
=======
   "source": [
    "images.shape\n"
  ]
>>>>>>> Stashed changes
},
{
  "cell_type": "code",
  "execution_count": 64,
  "id": "9d5cefa663e6a97a",
  "metadata": {
    "ExecuteTime": {
      "end_time": "2025-06-23T16:03:00.938734Z",
      "start_time": "2025-06-23T16:03:00.935266Z"
    }
  },
  "outputs": [
    {
      "data": {
        "text/plain": [
          "torch.Size([64, 4])"
        ]
      },
<<<<<<< Updated upstream
     "execution_count": 10,
=======
     "execution_count": 64,
>>>>>>> Stashed changes
     "metadata": {},
      "output_type": "execute_result"
    }
  ],
<<<<<<< Updated upstream
   "execution_count": 10
=======
   "source": [
    "labels.shape"
  ]
>>>>>>> Stashed changes
},
{
  "cell_type": "code",
  "execution_count": 65,
  "id": "7ae728ba7a82990d",
  "metadata": {
    "ExecuteTime": {
      "end_time": "2025-06-23T14:18:54.904988Z",
      "start_time": "2025-06-23T14:18:54.900829Z"
    }
  },
  "outputs": [
    {
      "data": {
        "text/plain": [
          "tensor([7, 2, 1, 0, 4, 1, 4, 9, 5, 9, 0, 6, 9, 0, 1, 5, 9, 7, 3, 4, 9, 6, 6, 5,\n",
          "        4, 0, 7, 4, 0, 1, 3, 1, 3, 4, 7, 2, 7, 1, 2, 1, 1, 7, 4, 2, 3, 5, 1, 2,\n",
          "        4, 4, 6, 3, 5, 5, 6, 0, 4, 1, 9, 5, 7, 8, 9, 3])"
        ]
      },
      "execution_count": 65,
      "metadata": {},
      "output_type": "execute_result"
    }
  ],
  "source": [
    "labels"
  ]
},
{
  "cell_type": "code",
  "execution_count": 66,
  "id": "1181bf8839d64f5e",
  "metadata": {
    "ExecuteTime": {
      "end_time": "2025-06-23T16:03:35.688815Z",
      "start_time": "2025-06-23T16:03:35.645522Z"
    }
  },
<<<<<<< Updated upstream
   "cell_type": "code",
  "source": [
    "plt.imshow(images[8].reshape(56,56), cmap=\"gray\")\n",
    "plt.show()"
  ],
  "id": "1181bf8839d64f5e",
=======
>>>>>>> Stashed changes
   "outputs": [
    {
      "data": {
        "image/png": "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",
        "text/plain": [
          "<Figure size 640x480 with 1 Axes>"
<<<<<<< Updated upstream
        ],
        "image/png": "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"
=======
      ]
>>>>>>> Stashed changes
    },
    "metadata": {},
    "output_type": "display_data"
  }
],
<<<<<<< Updated upstream
   "execution_count": 13
=======
   "source": [
  "plt.imshow(images[0].reshape(28,28), cmap=\"gray\")\n",
  "plt.show()"
]
>>>>>>> Stashed changes
},
{
"cell_type": "code",
"execution_count": 67,
"id": "284642f221bc2d9f",
"metadata": {
  "ExecuteTime": {
    "end_time": "2025-06-23T14:17:01.955654Z",
    "start_time": "2025-06-23T14:17:01.954230Z"
  }
},
"outputs": [],
"source": [
  "image = images[0]"
]
},
{
"cell_type": "code",
"execution_count": 68,
"id": "20375536221c1e0a",
"metadata": {
  "ExecuteTime": {
    "end_time": "2025-06-23T14:17:01.967631Z",
    "start_time": "2025-06-23T14:17:01.966302Z"
  }
},
"outputs": [],
"source": [
  "c, h, w = image.shape"
]
},
{
"cell_type": "code",
"execution_count": 69,
"id": "68392518278de410",
"metadata": {
  "ExecuteTime": {
    "end_time": "2025-06-23T14:17:01.978083Z",
    "start_time": "2025-06-23T14:17:01.975447Z"
  }
},
"outputs": [],
"source": [
  "unfolder = nn.Unfold(kernel_size=14, stride=14)\n",
  "patches = unfolder(images)"
]
},
{
"cell_type": "code",
"execution_count": 70,
"id": "5d6aaf2292384288",
"metadata": {
  "ExecuteTime": {
    "end_time": "2025-06-23T14:17:01.987568Z",
    "start_time": "2025-06-23T14:17:01.985543Z"
  }
},
"outputs": [
  {
    "data": {
      "text/plain": [
        "torch.Size([64, 196, 4])"
      ]
    },
    "execution_count": 70,
    "metadata": {},
    "output_type": "execute_result"
  }
],
"source": [
  "patches.shape"
]
},
{
"cell_type": "code",
"execution_count": 71,
"id": "3d53b40168095fac",
"metadata": {
  "ExecuteTime": {
    "end_time": "2025-06-23T14:17:01.996173Z",
    "start_time": "2025-06-23T14:17:01.994658Z"
  }
},
"outputs": [],
"source": [
  "rotated = patches.permute(0, 2, 1)"
]
},
{
"cell_type": "code",
"execution_count": 72,
"id": "dda1167e320d3ce3",
"metadata": {
  "ExecuteTime": {
    "end_time": "2025-06-23T14:17:02.005704Z",
    "start_time": "2025-06-23T14:17:02.003960Z"
  }
},
"outputs": [
  {
    "data": {
      "text/plain": [
        "torch.Size([64, 4, 196])"
      ]
    },
    "execution_count": 72,
    "metadata": {},
    "output_type": "execute_result"
  }
],
"source": [
  "rotated.shape"
]
},
{
"cell_type": "code",
"execution_count": 73,
"id": "88f52e346db9cef",
"metadata": {
  "ExecuteTime": {
    "end_time": "2025-06-23T14:17:02.014613Z",
    "start_time": "2025-06-23T14:17:02.012801Z"
  }
},
"outputs": [],
"source": [
  "linear = nn.Linear(196, 64, bias=False)"
]
},
{
"cell_type": "code",
"execution_count": 74,
"id": "86959122f347d5ad",
"metadata": {
  "ExecuteTime": {
    "end_time": "2025-06-23T14:17:02.023204Z",
    "start_time": "2025-06-23T14:17:02.021594Z"
  }
},
"outputs": [],
"source": [
  "result = linear(rotated)"
]
},
{
"cell_type": "code",
"execution_count": 75,
"id": "192b6f975bcf9468",
"metadata": {
  "ExecuteTime": {
    "end_time": "2025-06-23T14:17:02.032206Z",
    "start_time": "2025-06-23T14:17:02.030529Z"
  }
},
"outputs": [
  {
    "data": {
      "text/plain": [
        "torch.Size([64, 4, 64])"
      ]
    },
    "execution_count": 75,
    "metadata": {},
    "output_type": "execute_result"
  }
],
"source": [
  "result.shape"
]
},
{
"cell_type": "code",
"execution_count": 76,
"id": "b4c0dc3548e3b2c",
"metadata": {
  "ExecuteTime": {
    "end_time": "2025-06-23T14:17:02.041874Z",
    "start_time": "2025-06-23T14:17:02.040125Z"
  }
},
"outputs": [
  {
    "data": {
      "text/plain": [
        "torch.Size([4, 196])"
      ]
    },
    "execution_count": 76,
    "metadata": {},
    "output_type": "execute_result"
  }
],
"source": [
  "rotated[0].shape"
]
},
{
"cell_type": "code",
"execution_count": 77,
"id": "c33f8be1c847b2c9",
"metadata": {
  "ExecuteTime": {
    "end_time": "2025-06-23T14:17:02.053913Z",
    "start_time": "2025-06-23T14:17:02.051813Z"
  }
},
"outputs": [],
"source": [
  "import models"
]
},
{
"cell_type": "code",
"execution_count": 78,
"id": "655782b4f982881",
"metadata": {
  "ExecuteTime": {
    "end_time": "2025-06-23T14:17:02.083780Z",
    "start_time": "2025-06-23T14:17:02.082424Z"
  }
},
"outputs": [],
"source": [
  "loss_fn = nn.CrossEntropyLoss()"
]
},
{
"cell_type": "code",
"execution_count": 79,
"id": "b03035f93a60f5ca",
"metadata": {
  "ExecuteTime": {
    "end_time": "2025-06-23T14:23:05.696991Z",
    "start_time": "2025-06-23T14:23:05.688050Z"
  }
},
"outputs": [],
"source": [
  "patchify = models.Patchify()\n",
  "encoders = nn.ModuleList([models.Encoder() for _ in range(6)])\n",
  "linear = nn.Linear(64, 10)\n",
  "patched = patchify(images)\n",
  "for encoder in encoders:\n",
  "    patched = encoder(patched)\n",
  "result = linear(patched)"
]
},
{
"cell_type": "code",
"execution_count": 80,
"id": "a924866187b41e8b",
"metadata": {
  "ExecuteTime": {
    "end_time": "2025-06-23T14:23:07.536278Z",
    "start_time": "2025-06-23T14:23:07.533117Z"
  }
},
"outputs": [
  {
    "data": {
      "text/plain": [
        "torch.Size([64, 4, 10])"
      ]
    },
    "execution_count": 80,
    "metadata": {},
    "output_type": "execute_result"
  }
],
"source": [
  "result.shape"
]
},
{
"cell_type": "code",
"execution_count": 81,
"id": "f2dfefc42709ab15",
"metadata": {
  "ExecuteTime": {
    "end_time": "2025-06-23T14:23:50.214701Z",
    "start_time": "2025-06-23T14:23:50.212269Z"
  }
},
"outputs": [],
"source": [
  "meaned = result.mean(dim=1)"
]
},
{
"cell_type": "code",
"execution_count": 82,
"id": "58b492cbc9d0e660",
"metadata": {
  "ExecuteTime": {
    "end_time": "2025-06-23T14:23:53.279754Z",
    "start_time": "2025-06-23T14:23:53.277414Z"
  }
},
"outputs": [
  {
    "data": {
      "text/plain": [
        "torch.Size([64, 10])"
      ]
    },
    "execution_count": 82,
    "metadata": {},
    "output_type": "execute_result"
  }
],
"source": [
  "meaned.shape"
]
},
{
"cell_type": "code",
"execution_count": 83,
"id": "9d1c927f080af97f",
"metadata": {
  "ExecuteTime": {
    "end_time": "2025-06-23T14:24:18.203758Z",
    "start_time": "2025-06-23T14:24:18.199975Z"
  }
},
"outputs": [
  {
    "data": {
      "text/plain": [
        "torch.Size([64])"
      ]
    },
    "execution_count": 83,
    "metadata": {},
    "output_type": "execute_result"
  }
],
"source": [
  "labels.shape"
]
},
{
"cell_type": "code",
"execution_count": 84,
"id": "f62a30902f0845f4",
"metadata": {
  "ExecuteTime": {
    "end_time": "2025-06-23T14:24:39.536016Z",
    "start_time": "2025-06-23T14:24:39.534388Z"
  }
},
"outputs": [],
"source": [
  "loss_fn = nn.CrossEntropyLoss()"
]
},
{
"cell_type": "code",
"execution_count": 85,
"id": "8957374f3cada625",
"metadata": {
  "ExecuteTime": {
    "end_time": "2025-06-23T14:25:09.640611Z",
    "start_time": "2025-06-23T14:25:09.638395Z"
  }
},
"outputs": [],
"source": [
  "loss= loss_fn(meaned, labels)"
]
},
{
"cell_type": "code",
"execution_count": 86,
"id": "d31088927741a88f",
"metadata": {
  "ExecuteTime": {
    "end_time": "2025-06-23T14:25:11.074657Z",
    "start_time": "2025-06-23T14:25:11.053567Z"
  }
},
"outputs": [],
"source": [
  "loss.backward()"
]
},
{
"cell_type": "code",
"execution_count": 153,
"id": "4fdd55715722d0f7",
"metadata": {},
"outputs": [
  {
    "data": {
      "text/plain": [
        "torch.Size([128, 64])"
      ]
    },
    "execution_count": 153,
    "metadata": {},
    "output_type": "execute_result"
  }
],
"source": [
  "# pe work\n",
  "pe = torch.zeros(128, 64)\n",
  "position = torch.arange(0, 128, dtype=torch.float).unsqueeze(1)\n",
  "pe.shape\n"
]
},
{
"cell_type": "code",
"execution_count": 154,
"id": "e904679d",
"metadata": {},
"outputs": [
  {
    "data": {
      "text/plain": [
        "torch.Size([128, 1])"
      ]
    },
    "execution_count": 154,
    "metadata": {},
    "output_type": "execute_result"
  }
],
"source": [
  "position.shape"
]
},
{
"cell_type": "code",
"execution_count": 155,
"id": "77ccfbb1",
"metadata": {},
"outputs": [
  {
    "data": {
      "text/plain": [
        "tensor([1.0000e+00, 7.4989e-01, 5.6234e-01, 4.2170e-01, 3.1623e-01, 2.3714e-01,\n",
        "        1.7783e-01, 1.3335e-01, 1.0000e-01, 7.4989e-02, 5.6234e-02, 4.2170e-02,\n",
        "        3.1623e-02, 2.3714e-02, 1.7783e-02, 1.3335e-02, 1.0000e-02, 7.4989e-03,\n",
        "        5.6234e-03, 4.2170e-03, 3.1623e-03, 2.3714e-03, 1.7783e-03, 1.3335e-03,\n",
        "        1.0000e-03, 7.4989e-04, 5.6234e-04, 4.2170e-04, 3.1623e-04, 2.3714e-04,\n",
        "        1.7783e-04, 1.3335e-04])"
      ]
    },
    "execution_count": 155,
    "metadata": {},
    "output_type": "execute_result"
  }
],
"source": [
  "# div_term = torch.exp()\n",
  "evens = torch.arange(0, 64, 2)\n",
  "magic = math.log(10_000.0) / 64\n",
  "div_terms = evens * - magic\n",
  "div_terms = torch.exp(div_terms)\n",
  "# div_terms.shape == 32\n",
  "div_terms"
]
},
{
"cell_type": "code",
"execution_count": 156,
"id": "9d5d99a2",
"metadata": {},
"outputs": [
  {
    "data": {
      "text/plain": [
        "torch.Size([128, 32])"
      ]
    },
    "execution_count": 156,
    "metadata": {},
    "output_type": "execute_result"
  }
],
"source": [
  "sines = torch.sin(position * div_terms)\n",
  "cosines = torch.cos(position * div_terms)\n",
  "sines.shape"
]
},
{
"metadata": {
  "ExecuteTime": {
    "end_time": "2025-06-23T17:19:43.782219Z",
    "start_time": "2025-06-23T17:19:43.703198Z"
  }
},
"cell_type": "code",
"source": "tensors = torch.load(\"data/composite_train.pt\")",
"id": "4fdd55715722d0f7",
"outputs": [],
"execution_count": 14
},
{
"metadata": {
  "ExecuteTime": {
    "end_time": "2025-06-23T17:19:52.787115Z",
    "start_time": "2025-06-23T17:19:52.782207Z"
  }
},
"cell_type": "code",
"source": "tensors",
"id": "216c1d93a156f445",
"outputs": [
  {
    "data": {
      "text/plain": [
        "{'images': tensor([[[[0., 0., 0.,  ..., 0., 0., 0.],\n",
        "           [0., 0., 0.,  ..., 0., 0., 0.],\n",
        "           [0., 0., 0.,  ..., 0., 0., 0.],\n",
        "           ...,\n",
        "           [0., 0., 0.,  ..., 0., 0., 0.],\n",
        "           [0., 0., 0.,  ..., 0., 0., 0.],\n",
        "           [0., 0., 0.,  ..., 0., 0., 0.]]],\n",
        " \n",
        " \n",
        "         [[[0., 0., 0.,  ..., 0., 0., 0.],\n",
        "           [0., 0., 0.,  ..., 0., 0., 0.],\n",
        "           [0., 0., 0.,  ..., 0., 0., 0.],\n",
        "           ...,\n",
        "           [0., 0., 0.,  ..., 0., 0., 0.],\n",
        "           [0., 0., 0.,  ..., 0., 0., 0.],\n",
        "           [0., 0., 0.,  ..., 0., 0., 0.]]],\n",
        " \n",
        " \n",
        "         [[[0., 0., 0.,  ..., 0., 0., 0.],\n",
        "           [0., 0., 0.,  ..., 0., 0., 0.],\n",
        "           [0., 0., 0.,  ..., 0., 0., 0.],\n",
        "           ...,\n",
        "           [0., 0., 0.,  ..., 0., 0., 0.],\n",
        "           [0., 0., 0.,  ..., 0., 0., 0.],\n",
        "           [0., 0., 0.,  ..., 0., 0., 0.]]],\n",
        " \n",
        " \n",
        "         ...,\n",
        " \n",
        " \n",
        "         [[[0., 0., 0.,  ..., 0., 0., 0.],\n",
        "           [0., 0., 0.,  ..., 0., 0., 0.],\n",
        "           [0., 0., 0.,  ..., 0., 0., 0.],\n",
        "           ...,\n",
        "           [0., 0., 0.,  ..., 0., 0., 0.],\n",
        "           [0., 0., 0.,  ..., 0., 0., 0.],\n",
        "           [0., 0., 0.,  ..., 0., 0., 0.]]],\n",
        " \n",
        " \n",
        "         [[[0., 0., 0.,  ..., 0., 0., 0.],\n",
        "           [0., 0., 0.,  ..., 0., 0., 0.],\n",
        "           [0., 0., 0.,  ..., 0., 0., 0.],\n",
        "           ...,\n",
        "           [0., 0., 0.,  ..., 0., 0., 0.],\n",
        "           [0., 0., 0.,  ..., 0., 0., 0.],\n",
        "           [0., 0., 0.,  ..., 0., 0., 0.]]],\n",
        " \n",
        " \n",
        "         [[[0., 0., 0.,  ..., 0., 0., 0.],\n",
        "           [0., 0., 0.,  ..., 0., 0., 0.],\n",
        "           [0., 0., 0.,  ..., 0., 0., 0.],\n",
        "           ...,\n",
        "           [0., 0., 0.,  ..., 0., 0., 0.],\n",
        "           [0., 0., 0.,  ..., 0., 0., 0.],\n",
        "           [0., 0., 0.,  ..., 0., 0., 0.]]]]),\n",
        " 'labels': tensor([[ 9,  3, -1, -1],\n",
        "         [ 0,  5,  7,  3],\n",
        "         [ 7,  1,  5,  6],\n",
        "         ...,\n",
        "         [ 4,  7,  3, -1],\n",
        "         [ 7,  0,  3,  8],\n",
        "         [ 5,  8,  5, -1]])}"
      ]
    },
    "execution_count": 15,
    "metadata": {},
    "output_type": "execute_result"
  }
],
"execution_count": 15
},
{
"metadata": {},
"cell_type": "code",
"execution_count": null,
"id": "f23ce2ff",
"metadata": {},
"outputs": [
  {
    "data": {
      "text/plain": [
        "tensor([[ 0.0000e+00,  1.0000e+00,  0.0000e+00,  ...,  1.0000e+00,\n",
        "          0.0000e+00,  1.0000e+00],\n",
        "        [ 8.4147e-01,  5.4030e-01,  6.8156e-01,  ...,  1.0000e+00,\n",
        "          1.3335e-04,  1.0000e+00],\n",
        "        [ 9.0930e-01, -4.1615e-01,  9.9748e-01,  ...,  1.0000e+00,\n",
        "          2.6670e-04,  1.0000e+00],\n",
        "        ...,\n",
        "        [-6.1604e-01,  7.8771e-01, -4.8905e-01,  ...,  9.9975e-01,\n",
        "          1.6668e-02,  9.9986e-01],\n",
        "        [ 3.2999e-01,  9.4398e-01,  2.3663e-01,  ...,  9.9975e-01,\n",
        "          1.6802e-02,  9.9986e-01],\n",
        "        [ 9.7263e-01,  2.3236e-01,  8.3536e-01,  ...,  9.9975e-01,\n",
        "          1.6935e-02,  9.9986e-01]])"
      ]
    },
    "execution_count": 157,
    "metadata": {},
    "output_type": "execute_result"
  }
],
"source": [
  "# insert values to zero'ed positional embedding tensor with shape 128x64\n",
  "# sines and cosines have shape 128x32\n",
  "pe[:, 0::2] = sines\n",
  "pe[:, 1::2] = cosines\n",
  "pe"
]
},
{
"cell_type": "code",
"execution_count": 158,
"id": "7f209bb2",
"metadata": {},
"outputs": [
  {
    "data": {
      "text/plain": [
        "torch.Size([1, 128, 64])"
      ]
    },
    "execution_count": 158,
    "metadata": {},
    "output_type": "execute_result"
  }
],
"source": [
  "pe = pe.unsqueeze(0)\n",
  "pe.shape"
]
},
{
"cell_type": "code",
"execution_count": 159,
"id": "ee198910",
"metadata": {},
"outputs": [
  {
    "data": {
      "text/plain": [
        "tensor([[[ 0.0000e+00,  1.0000e+00,  0.0000e+00,  ...,  1.0000e+00,\n",
        "           0.0000e+00,  1.0000e+00],\n",
        "         [ 8.4147e-01,  5.4030e-01,  6.8156e-01,  ...,  1.0000e+00,\n",
        "           1.3335e-04,  1.0000e+00],\n",
        "         [ 9.0930e-01, -4.1615e-01,  9.9748e-01,  ...,  1.0000e+00,\n",
        "           2.6670e-04,  1.0000e+00],\n",
        "         ...,\n",
        "         [-6.1604e-01,  7.8771e-01, -4.8905e-01,  ...,  9.9975e-01,\n",
        "           1.6668e-02,  9.9986e-01],\n",
        "         [ 3.2999e-01,  9.4398e-01,  2.3663e-01,  ...,  9.9975e-01,\n",
        "           1.6802e-02,  9.9986e-01],\n",
        "         [ 9.7263e-01,  2.3236e-01,  8.3536e-01,  ...,  9.9975e-01,\n",
        "           1.6935e-02,  9.9986e-01]]])"
      ]
    },
    "execution_count": 159,
    "metadata": {},
    "output_type": "execute_result"
  }
],
"source": [
  "pe"
]
},
{
"cell_type": "code",
"execution_count": null,
"id": "7c8b22ce",
"metadata": {},
"outputs": [],
"source": [
  "# "
]
}
],
"metadata": {
"kernelspec": {
"display_name": "Python 3",
"language": "python",
"name": "python3"
},
"language_info": {
"codemirror_mode": {
  "name": "ipython",
  "version": 2
},
"file_extension": ".py",
"mimetype": "text/x-python",
"name": "python",
"nbconvert_exporter": "python",
"pygments_lexer": "ipython2",
"version": "2.7.6"
}
},
"nbformat": 4,
"nbformat_minor": 5
}
