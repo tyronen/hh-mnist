{
 "cells": [
  {
   "cell_type": "code",
   "id": "initial_id",
   "metadata": {
    "ExecuteTime": {
     "end_time": "2025-06-25T10:27:45.333130Z",
     "start_time": "2025-06-25T10:27:45.328557Z"
    }
   },
   "source": [
    "import math\n",
    "import torch\n",
    "import torch.nn as nn\n",
    "from torchvision import datasets\n",
    "from torchvision.transforms import v2\n",
    "%matplotlib inline\n",
    "import matplotlib.pyplot as plt\n",
    "from torch.utils.data import DataLoader, TensorDataset\n",
    "import models\n",
    "import utils"
   ],
   "outputs": [],
   "execution_count": 118
  },
  {
   "cell_type": "code",
   "id": "ee6f59aa199d6bdf",
   "metadata": {
    "ExecuteTime": {
     "end_time": "2025-06-25T10:27:46.391182Z",
     "start_time": "2025-06-25T10:27:46.386845Z"
    }
   },
   "source": [
    "transform = v2.Compose([v2.ToImage(), v2.ToDtype(torch.float32, scale=True)])\n",
    "test_data = datasets.MNIST(\n",
    "    root=\"data\", train=False, download=True, transform=transform\n",
    ")\n",
    "test_dataloader = DataLoader(test_data, batch_size=1024, shuffle=False)\n",
    "device=utils.get_device()"
   ],
   "outputs": [],
   "execution_count": 119
  },
  {
   "metadata": {
    "ExecuteTime": {
     "end_time": "2025-06-25T10:27:47.418311Z",
     "start_time": "2025-06-25T10:27:47.399032Z"
    }
   },
   "cell_type": "code",
   "source": [
    "composite_data = torch.load('data/composite_test.pt')\n",
    "composite_dataset = TensorDataset(composite_data['images'], composite_data['output_seqs'])\n",
    "composite_dataloader = DataLoader(composite_dataset, batch_size=64, shuffle=False)"
   ],
   "id": "69f08b496482577e",
   "outputs": [],
   "execution_count": 120
  },
  {
   "metadata": {
    "ExecuteTime": {
     "end_time": "2025-06-25T10:27:48.483971Z",
     "start_time": "2025-06-25T10:27:48.481360Z"
    }
   },
   "cell_type": "code",
   "source": [
    "images, labels = next(iter(composite_dataloader))\n",
    "labels.shape"
   ],
   "id": "4a367a6971d3e170",
   "outputs": [
    {
     "data": {
      "text/plain": [
       "torch.Size([64, 5])"
      ]
     },
     "execution_count": 121,
     "metadata": {},
     "output_type": "execute_result"
    }
   ],
   "execution_count": 121
  },
  {
   "metadata": {
    "ExecuteTime": {
     "end_time": "2025-06-25T10:27:49.536812Z",
     "start_time": "2025-06-25T10:27:49.534686Z"
    }
   },
   "cell_type": "code",
   "source": "images.shape\n",
   "id": "2444becaaf07d571",
   "outputs": [
    {
     "data": {
      "text/plain": [
       "torch.Size([64, 1, 56, 56])"
      ]
     },
     "execution_count": 122,
     "metadata": {},
     "output_type": "execute_result"
    }
   ],
   "execution_count": 122
  },
  {
   "metadata": {
    "ExecuteTime": {
     "end_time": "2025-06-25T10:27:50.621867Z",
     "start_time": "2025-06-25T10:27:50.591879Z"
    }
   },
   "cell_type": "code",
   "source": [
    "plt.imshow(images[8].reshape(56,56), cmap=\"gray\")\n",
    "plt.show()"
   ],
   "id": "1181bf8839d64f5e",
   "outputs": [
    {
     "data": {
      "text/plain": [
       "<Figure size 640x480 with 1 Axes>"
      ],
      "image/png": "[encoded data removed]"
     },
     "metadata": {},
     "output_type": "display_data"
    }
   ],
   "execution_count": 123
  },
  {
   "metadata": {
    "ExecuteTime": {
     "end_time": "2025-06-25T10:27:51.718366Z",
     "start_time": "2025-06-25T10:27:51.680529Z"
    }
   },
   "cell_type": "code",
   "source": [
    "images, labels = next(iter(test_dataloader))\n",
    "labels"
   ],
   "id": "e872c29a7fcf20f2",
   "outputs": [
    {
     "data": {
      "text/plain": [
       "tensor([7, 2, 1,  ..., 7, 5, 4])"
      ]
     },
     "execution_count": 124,
     "metadata": {},
     "output_type": "execute_result"
    }
   ],
   "execution_count": 124
  },
  {
   "metadata": {
    "ExecuteTime": {
     "end_time": "2025-06-25T10:27:52.775724Z",
     "start_time": "2025-06-25T10:27:52.758121Z"
    }
   },
   "cell_type": "code",
   "source": [
    "image = images[0]\n",
    "c, h, w = image.shape\n",
    "unfolder = nn.Unfold(kernel_size=14, stride=14)\n",
    "patches = unfolder(images)\n",
    "patches.shape"
   ],
   "id": "7ae728ba7a82990d",
   "outputs": [
    {
     "data": {
      "text/plain": [
       "torch.Size([1024, 196, 4])"
      ]
     },
     "execution_count": 125,
     "metadata": {},
     "output_type": "execute_result"
    }
   ],
   "execution_count": 125
  },
  {
   "cell_type": "code",
   "id": "3d53b40168095fac",
   "metadata": {
    "ExecuteTime": {
     "end_time": "2025-06-25T10:27:53.842627Z",
     "start_time": "2025-06-25T10:27:53.840426Z"
    }
   },
   "source": [
    "rotated = patches.permute(0, 2, 1)\n",
    "rotated.shape"
   ],
   "outputs": [
    {
     "data": {
      "text/plain": [
       "torch.Size([1024, 4, 196])"
      ]
     },
     "execution_count": 126,
     "metadata": {},
     "output_type": "execute_result"
    }
   ],
   "execution_count": 126
  },
  {
   "cell_type": "code",
   "id": "86959122f347d5ad",
   "metadata": {
    "ExecuteTime": {
     "end_time": "2025-06-25T10:27:54.903691Z",
     "start_time": "2025-06-25T10:27:54.900711Z"
    }
   },
   "source": [
    "linear = nn.Linear(196, 64, bias=False)\n",
    "result = linear(rotated)\n",
    "result.shape"
   ],
   "outputs": [
    {
     "data": {
      "text/plain": [
       "torch.Size([1024, 4, 64])"
      ]
     },
     "execution_count": 127,
     "metadata": {},
     "output_type": "execute_result"
    }
   ],
   "execution_count": 127
  },
  {
   "cell_type": "code",
   "id": "b4c0dc3548e3b2c",
   "metadata": {
    "ExecuteTime": {
     "end_time": "2025-06-25T10:27:55.957160Z",
     "start_time": "2025-06-25T10:27:55.955035Z"
    }
   },
   "source": [
    "rotated[0].shape"
   ],
   "outputs": [
    {
     "data": {
      "text/plain": [
       "torch.Size([4, 196])"
      ]
     },
     "execution_count": 128,
     "metadata": {},
     "output_type": "execute_result"
    }
   ],
   "execution_count": 128
  },
  {
   "cell_type": "code",
   "id": "655782b4f982881",
   "metadata": {
    "ExecuteTime": {
     "end_time": "2025-06-25T10:27:57.008668Z",
     "start_time": "2025-06-25T10:27:57.007052Z"
    }
   },
   "source": [
    "loss_fn = nn.CrossEntropyLoss()"
   ],
   "outputs": [],
   "execution_count": 129
  },
  {
   "cell_type": "code",
   "id": "b03035f93a60f5ca",
   "metadata": {
    "ExecuteTime": {
     "end_time": "2025-06-25T10:27:58.185293Z",
     "start_time": "2025-06-25T10:27:58.053599Z"
    }
   },
   "source": [
    "patchify = models.Patchify(7, 64)\n",
    "encoders = nn.ModuleList([models.Encoder(model_dim=64, ffn_dim=64, num_heads=8) for _ in range(6)])\n",
    "linear = nn.Linear(64, 10)\n",
    "patched = patchify(images)\n",
    "for encoder in encoders:\n",
    "    patched = encoder(patched)\n",
    "result = linear(patched)\n",
    "result.shape"
   ],
   "outputs": [
    {
     "data": {
      "text/plain": [
       "torch.Size([1024, 16, 10])"
      ]
     },
     "execution_count": 130,
     "metadata": {},
     "output_type": "execute_result"
    }
   ],
   "execution_count": 130
  },
  {
   "cell_type": "code",
   "id": "f2dfefc42709ab15",
   "metadata": {
    "ExecuteTime": {
     "end_time": "2025-06-25T10:27:59.232270Z",
     "start_time": "2025-06-25T10:27:59.229972Z"
    }
   },
   "source": [
    "meaned = result.mean(dim=1)\n",
    "meaned.shape"
   ],
   "outputs": [
    {
     "data": {
      "text/plain": [
       "torch.Size([1024, 10])"
      ]
     },
     "execution_count": 131,
     "metadata": {},
     "output_type": "execute_result"
    }
   ],
   "execution_count": 131
  },
  {
   "cell_type": "code",
   "id": "9d1c927f080af97f",
   "metadata": {
    "ExecuteTime": {
     "end_time": "2025-06-25T10:28:00.287404Z",
     "start_time": "2025-06-25T10:28:00.284971Z"
    }
   },
   "source": [
    "labels.shape"
   ],
   "outputs": [
    {
     "data": {
      "text/plain": [
       "torch.Size([1024])"
      ]
     },
     "execution_count": 132,
     "metadata": {},
     "output_type": "execute_result"
    }
   ],
   "execution_count": 132
  },
  {
   "cell_type": "code",
   "id": "f62a30902f0845f4",
   "metadata": {
    "ExecuteTime": {
     "end_time": "2025-06-25T10:28:01.513343Z",
     "start_time": "2025-06-25T10:28:01.313843Z"
    }
   },
   "source": [
    "loss_fn = nn.CrossEntropyLoss()\n",
    "loss= loss_fn(meaned, labels)\n",
    "loss.backward()"
   ],
   "outputs": [],
   "execution_count": 133
  },
  {
   "cell_type": "code",
   "id": "91362cd0e7159465",
   "metadata": {
    "ExecuteTime": {
     "end_time": "2025-06-25T10:28:02.563095Z",
     "start_time": "2025-06-25T10:28:02.560629Z"
    }
   },
   "source": [
    "# pe work\n",
    "pe = torch.zeros(128, 64)\n",
    "position = torch.arange(0, 128, dtype=torch.float).unsqueeze(1)\n",
    "pe.shape\n"
   ],
   "outputs": [
    {
     "data": {
      "text/plain": [
       "torch.Size([128, 64])"
      ]
     },
     "execution_count": 134,
     "metadata": {},
     "output_type": "execute_result"
    }
   ],
   "execution_count": 134
  },
  {
   "cell_type": "code",
   "id": "e904679d",
   "metadata": {
    "ExecuteTime": {
     "end_time": "2025-06-25T10:28:03.574758Z",
     "start_time": "2025-06-25T10:28:03.572593Z"
    }
   },
   "source": [
    "position.shape"
   ],
   "outputs": [
    {
     "data": {
      "text/plain": [
       "torch.Size([128, 1])"
      ]
     },
     "execution_count": 135,
     "metadata": {},
     "output_type": "execute_result"
    }
   ],
   "execution_count": 135
  },
  {
   "cell_type": "code",
   "id": "77ccfbb1",
   "metadata": {
    "ExecuteTime": {
     "end_time": "2025-06-25T10:28:04.616765Z",
     "start_time": "2025-06-25T10:28:04.613935Z"
    }
   },
   "source": [
    "# div_term = torch.exp()\n",
    "evens = torch.arange(0, 64, 2)\n",
    "magic = math.log(10_000.0) / 64\n",
    "div_terms = evens * - magic\n",
    "div_terms = torch.exp(div_terms)\n",
    "# div_terms.shape == 32\n",
    "div_terms"
   ],
   "outputs": [
    {
     "data": {
      "text/plain": [
       "tensor([1.0000e+00, 7.4989e-01, 5.6234e-01, 4.2170e-01, 3.1623e-01, 2.3714e-01,\n",
       "        1.7783e-01, 1.3335e-01, 1.0000e-01, 7.4989e-02, 5.6234e-02, 4.2170e-02,\n",
       "        3.1623e-02, 2.3714e-02, 1.7783e-02, 1.3335e-02, 1.0000e-02, 7.4989e-03,\n",
       "        5.6234e-03, 4.2170e-03, 3.1623e-03, 2.3714e-03, 1.7783e-03, 1.3335e-03,\n",
       "        1.0000e-03, 7.4989e-04, 5.6234e-04, 4.2170e-04, 3.1623e-04, 2.3714e-04,\n",
       "        1.7783e-04, 1.3335e-04])"
      ]
     },
     "execution_count": 136,
     "metadata": {},
     "output_type": "execute_result"
    }
   ],
   "execution_count": 136
  },
  {
   "cell_type": "code",
   "id": "9d5d99a2",
   "metadata": {
    "ExecuteTime": {
     "end_time": "2025-06-25T10:28:05.650639Z",
     "start_time": "2025-06-25T10:28:05.648170Z"
    }
   },
   "source": [
    "sines = torch.sin(position * div_terms)\n",
    "cosines = torch.cos(position * div_terms)\n",
    "sines.shape"
   ],
   "outputs": [
    {
     "data": {
      "text/plain": [
       "torch.Size([128, 32])"
      ]
     },
     "execution_count": 137,
     "metadata": {},
     "output_type": "execute_result"
    }
   ],
   "execution_count": 137
  },
  {
   "metadata": {
    "ExecuteTime": {
     "end_time": "2025-06-25T10:28:06.755955Z",
     "start_time": "2025-06-25T10:28:06.685484Z"
    }
   },
   "cell_type": "code",
   "source": [
    "tensors = torch.load(\"data/composite_train.pt\")\n",
    "tensors"
   ],
   "id": "6fe012013dfeedd",
   "outputs": [
    {
     "data": {
      "text/plain": [
       "{'images': tensor([[[[0., 0., 0.,  ..., 0., 0., 0.],\n",
       "           [0., 0., 0.,  ..., 0., 0., 0.],\n",
       "           [0., 0., 0.,  ..., 0., 0., 0.],\n",
       "           ...,\n",
       "           [0., 0., 0.,  ..., 0., 0., 0.],\n",
       "           [0., 0., 0.,  ..., 0., 0., 0.],\n",
       "           [0., 0., 0.,  ..., 0., 0., 0.]]],\n",
       " \n",
       " \n",
       "         [[[0., 0., 0.,  ..., 0., 0., 0.],\n",
       "           [0., 0., 0.,  ..., 0., 0., 0.],\n",
       "           [0., 0., 0.,  ..., 0., 0., 0.],\n",
       "           ...,\n",
       "           [0., 0., 0.,  ..., 0., 0., 0.],\n",
       "           [0., 0., 0.,  ..., 0., 0., 0.],\n",
       "           [0., 0., 0.,  ..., 0., 0., 0.]]],\n",
       " \n",
       " \n",
       "         [[[0., 0., 0.,  ..., 0., 0., 0.],\n",
       "           [0., 0., 0.,  ..., 0., 0., 0.],\n",
       "           [0., 0., 0.,  ..., 0., 0., 0.],\n",
       "           ...,\n",
       "           [0., 0., 0.,  ..., 0., 0., 0.],\n",
       "           [0., 0., 0.,  ..., 0., 0., 0.],\n",
       "           [0., 0., 0.,  ..., 0., 0., 0.]]],\n",
       " \n",
       " \n",
       "         ...,\n",
       " \n",
       " \n",
       "         [[[0., 0., 0.,  ..., 0., 0., 0.],\n",
       "           [0., 0., 0.,  ..., 0., 0., 0.],\n",
       "           [0., 0., 0.,  ..., 0., 0., 0.],\n",
       "           ...,\n",
       "           [0., 0., 0.,  ..., 0., 0., 0.],\n",
       "           [0., 0., 0.,  ..., 0., 0., 0.],\n",
       "           [0., 0., 0.,  ..., 0., 0., 0.]]],\n",
       " \n",
       " \n",
       "         [[[0., 0., 0.,  ..., 0., 0., 0.],\n",
       "           [0., 0., 0.,  ..., 0., 0., 0.],\n",
       "           [0., 0., 0.,  ..., 0., 0., 0.],\n",
       "           ...,\n",
       "           [0., 0., 0.,  ..., 0., 0., 0.],\n",
       "           [0., 0., 0.,  ..., 0., 0., 0.],\n",
       "           [0., 0., 0.,  ..., 0., 0., 0.]]],\n",
       " \n",
       " \n",
       "         [[[0., 0., 0.,  ..., 0., 0., 0.],\n",
       "           [0., 0., 0.,  ..., 0., 0., 0.],\n",
       "           [0., 0., 0.,  ..., 0., 0., 0.],\n",
       "           ...,\n",
       "           [0., 0., 0.,  ..., 0., 0., 0.],\n",
       "           [0., 0., 0.,  ..., 0., 0., 0.],\n",
       "           [0., 0., 0.,  ..., 0., 0., 0.]]]]),\n",
       " 'input_seqs': tensor([[10,  9,  3, 12, 12],\n",
       "         [10,  0,  5,  7,  3],\n",
       "         [10,  7,  1,  5,  6],\n",
       "         ...,\n",
       "         [10,  4,  7,  3, 12],\n",
       "         [10,  7,  0,  3,  8],\n",
       "         [10,  5,  8,  5, 12]]),\n",
       " 'output_seqs': tensor([[ 9,  3, 11, 12, 12],\n",
       "         [ 0,  5,  7,  3, 11],\n",
       "         [ 7,  1,  5,  6, 11],\n",
       "         ...,\n",
       "         [ 4,  7,  3, 11, 12],\n",
       "         [ 7,  0,  3,  8, 11],\n",
       "         [ 5,  8,  5, 11, 12]]),\n",
       " 'vocab_info': {'start_token': 10,\n",
       "  'end_token': 11,\n",
       "  'pad_token': 12,\n",
       "  'vocab_size': 13}}"
      ]
     },
     "execution_count": 138,
     "metadata": {},
     "output_type": "execute_result"
    }
   ],
   "execution_count": 138
  },
  {
   "metadata": {
    "ExecuteTime": {
     "end_time": "2025-06-25T10:28:07.794906Z",
     "start_time": "2025-06-25T10:28:07.792065Z"
    }
   },
   "cell_type": "code",
   "id": "f23ce2ff",
   "source": [
    "# insert values to zero'ed positional embedding tensor with shape 128x64\n",
    "# sines and cosines have shape 128x32\n",
    "pe[:, 0::2] = sines\n",
    "pe[:, 1::2] = cosines\n",
    "pe"
   ],
   "outputs": [
    {
     "data": {
      "text/plain": [
       "tensor([[ 0.0000e+00,  1.0000e+00,  0.0000e+00,  ...,  1.0000e+00,\n",
       "          0.0000e+00,  1.0000e+00],\n",
       "        [ 8.4147e-01,  5.4030e-01,  6.8156e-01,  ...,  1.0000e+00,\n",
       "          1.3335e-04,  1.0000e+00],\n",
       "        [ 9.0930e-01, -4.1615e-01,  9.9748e-01,  ...,  1.0000e+00,\n",
       "          2.6670e-04,  1.0000e+00],\n",
       "        ...,\n",
       "        [-6.1604e-01,  7.8771e-01, -4.8905e-01,  ...,  9.9975e-01,\n",
       "          1.6668e-02,  9.9986e-01],\n",
       "        [ 3.2999e-01,  9.4398e-01,  2.3663e-01,  ...,  9.9975e-01,\n",
       "          1.6802e-02,  9.9986e-01],\n",
       "        [ 9.7263e-01,  2.3236e-01,  8.3536e-01,  ...,  9.9975e-01,\n",
       "          1.6935e-02,  9.9986e-01]])"
      ]
     },
     "execution_count": 139,
     "metadata": {},
     "output_type": "execute_result"
    }
   ],
   "execution_count": 139
  },
  {
   "cell_type": "code",
   "id": "7f209bb2",
   "metadata": {
    "ExecuteTime": {
     "end_time": "2025-06-25T10:28:08.849784Z",
     "start_time": "2025-06-25T10:28:08.847506Z"
    }
   },
   "source": [
    "pe = pe.unsqueeze(0)\n",
    "pe.shape"
   ],
   "outputs": [
    {
     "data": {
      "text/plain": [
       "torch.Size([1, 128, 64])"
      ]
     },
     "execution_count": 140,
     "metadata": {},
     "output_type": "execute_result"
    }
   ],
   "execution_count": 140
  },
  {
   "cell_type": "code",
   "id": "ee198910",
   "metadata": {
    "ExecuteTime": {
     "end_time": "2025-06-25T10:28:09.921923Z",
     "start_time": "2025-06-25T10:28:09.919036Z"
    }
   },
   "source": [
    "pe"
   ],
   "outputs": [
    {
     "data": {
      "text/plain": [
       "tensor([[[ 0.0000e+00,  1.0000e+00,  0.0000e+00,  ...,  1.0000e+00,\n",
       "           0.0000e+00,  1.0000e+00],\n",
       "         [ 8.4147e-01,  5.4030e-01,  6.8156e-01,  ...,  1.0000e+00,\n",
       "           1.3335e-04,  1.0000e+00],\n",
       "         [ 9.0930e-01, -4.1615e-01,  9.9748e-01,  ...,  1.0000e+00,\n",
       "           2.6670e-04,  1.0000e+00],\n",
       "         ...,\n",
       "         [-6.1604e-01,  7.8771e-01, -4.8905e-01,  ...,  9.9975e-01,\n",
       "           1.6668e-02,  9.9986e-01],\n",
       "         [ 3.2999e-01,  9.4398e-01,  2.3663e-01,  ...,  9.9975e-01,\n",
       "           1.6802e-02,  9.9986e-01],\n",
       "         [ 9.7263e-01,  2.3236e-01,  8.3536e-01,  ...,  9.9975e-01,\n",
       "           1.6935e-02,  9.9986e-01]]])"
      ]
     },
     "execution_count": 141,
     "metadata": {},
     "output_type": "execute_result"
    }
   ],
   "execution_count": 141
  },
  {
   "cell_type": "code",
   "id": "7c8b22ce",
   "metadata": {
    "ExecuteTime": {
     "end_time": "2025-06-25T10:28:12.011142Z",
     "start_time": "2025-06-25T10:28:11.980185Z"
    }
   },
   "source": [
    "plt.imshow(image.reshape(28,28), cmap=\"gray\")\n",
    "plt.show()"
   ],
   "outputs": [
    {
     "data": {
      "text/plain": [
       "<Figure size 640x480 with 1 Axes>"
      ],
      "image/png": "[encoded data removed]"
     },
     "metadata": {},
     "output_type": "display_data"
    }
   ],
   "execution_count": 142
  },
  {
   "metadata": {
    "ExecuteTime": {
     "end_time": "2025-06-25T10:28:13.087748Z",
     "start_time": "2025-06-25T10:28:13.085629Z"
    }
   },
   "cell_type": "code",
   "source": "images.shape",
   "id": "b4928b6e422b3bed",
   "outputs": [
    {
     "data": {
      "text/plain": [
       "torch.Size([1024, 1, 28, 28])"
      ]
     },
     "execution_count": 143,
     "metadata": {},
     "output_type": "execute_result"
    }
   ],
   "execution_count": 143
  },
  {
   "metadata": {
    "ExecuteTime": {
     "end_time": "2025-06-25T10:28:14.132242Z",
     "start_time": "2025-06-25T10:28:14.101441Z"
    }
   },
   "cell_type": "code",
   "source": [
    "device = utils.get_device()\n",
    "checkpoint = torch.load(\"data/simple.pth\", map_location=device)\n",
    "model = models.SimpleTransformer(patch_size=14, model_dim=384, ffn_dim=64, num_encoders=3, num_heads=8, use_pe=True).to(device)\n",
    "model.load_state_dict(checkpoint[\"model_state_dict\"])\n",
    "pe = model.pe.pe\n",
    "pe"
   ],
   "id": "f40bbd875d2a8a5c",
   "outputs": [
    {
     "data": {
      "text/plain": [
       "tensor([[[ 0.0000e+00,  1.0000e+00,  0.0000e+00,  ...,  1.0000e+00,\n",
       "           0.0000e+00,  1.0000e+00],\n",
       "         [ 8.4147e-01,  5.4030e-01,  8.1525e-01,  ...,  1.0000e+00,\n",
       "           1.0491e-04,  1.0000e+00],\n",
       "         [ 9.0930e-01, -4.1615e-01,  9.4424e-01,  ...,  1.0000e+00,\n",
       "           2.0983e-04,  1.0000e+00],\n",
       "         ...,\n",
       "         [-9.6612e-01, -2.5810e-01,  9.9973e-01,  ...,  9.9998e-01,\n",
       "           6.3997e-03,  9.9998e-01],\n",
       "         [-7.3918e-01,  6.7351e-01,  5.5986e-01,  ...,  9.9998e-01,\n",
       "           6.5046e-03,  9.9998e-01],\n",
       "         [ 1.6736e-01,  9.8590e-01, -3.5128e-01,  ...,  9.9998e-01,\n",
       "           6.6095e-03,  9.9998e-01]]], device='mps:0')"
      ]
     },
     "execution_count": 144,
     "metadata": {},
     "output_type": "execute_result"
    }
   ],
   "execution_count": 144
  },
  {
   "metadata": {
    "ExecuteTime": {
     "end_time": "2025-06-25T10:28:15.171098Z",
     "start_time": "2025-06-25T10:28:15.168465Z"
    }
   },
   "cell_type": "code",
   "source": "pe.std().item()",
   "id": "f06211c9d7ae6c88",
   "outputs": [
    {
     "data": {
      "text/plain": [
       "0.5954260230064392"
      ]
     },
     "execution_count": 145,
     "metadata": {},
     "output_type": "execute_result"
    }
   ],
   "execution_count": 145
  },
  {
   "metadata": {
    "ExecuteTime": {
     "end_time": "2025-06-25T10:28:16.210915Z",
     "start_time": "2025-06-25T10:28:16.208352Z"
    }
   },
   "cell_type": "code",
   "source": "pe.mean().item()",
   "id": "b73fdbd31b70b26a",
   "outputs": [
    {
     "data": {
      "text/plain": [
       "0.38142141699790955"
      ]
     },
     "execution_count": 146,
     "metadata": {},
     "output_type": "execute_result"
    }
   ],
   "execution_count": 146
  },
  {
   "metadata": {
    "ExecuteTime": {
     "end_time": "2025-06-25T10:28:17.284217Z",
     "start_time": "2025-06-25T10:28:17.237580Z"
    }
   },
   "cell_type": "code",
   "source": [
    "plt.imshow(pe[0, :16].cpu())   # first batch, 16 tokens\n",
    "plt.colorbar()\n",
    "plt.title(\"Sinusoidal positional encoding (first 16 tokens)\")\n",
    "plt.show()"
   ],
   "id": "b5d545b2192c1373",
   "outputs": [
    {
     "data": {
      "text/plain": [
       "<Figure size 640x480 with 2 Axes>"
      ],
      "image/png": "[encoded data removed]"
     },
     "metadata": {},
     "output_type": "display_data"
    }
   ],
   "execution_count": 147
  },
  {
   "metadata": {
    "ExecuteTime": {
     "end_time": "2025-06-25T10:28:18.330268Z",
     "start_time": "2025-06-25T10:28:18.327851Z"
    }
   },
   "cell_type": "code",
   "source": [
    "blankpe = models.PositionalEncoding(64).pe[0]      # [max_len, 64]\n",
    "\n",
    "# Column 0 should be sin wave, column 1 a cos wave\n",
    "assert torch.allclose(blankpe[:4,0], torch.tensor([0., 0.8415, 0.9093, 0.1411]), atol=1e-3)\n",
    "\n",
    "# Column 63 (highest freq) should be almost exactly 0/1 for pos<16\n",
    "assert (blankpe[:16,63] - 1).abs().max() < 1e-3"
   ],
   "id": "91870aa75803c92a",
   "outputs": [],
   "execution_count": 148
  },
  {
   "metadata": {
    "ExecuteTime": {
     "end_time": "2025-06-25T10:28:19.368739Z",
     "start_time": "2025-06-25T10:28:19.366513Z"
    }
   },
   "cell_type": "code",
   "source": "blankpe.mean().item()",
   "id": "d6b4d1f705a04509",
   "outputs": [
    {
     "data": {
      "text/plain": [
       "0.37666529417037964"
      ]
     },
     "execution_count": 149,
     "metadata": {},
     "output_type": "execute_result"
    }
   ],
   "execution_count": 149
  },
  {
   "metadata": {
    "ExecuteTime": {
     "end_time": "2025-06-25T10:28:20.406949Z",
     "start_time": "2025-06-25T10:28:20.404587Z"
    }
   },
   "cell_type": "code",
   "source": "blankpe.std().item()",
   "id": "f0e1b8fd5b2d1a68",
   "outputs": [
    {
     "data": {
      "text/plain": [
       "0.5985070466995239"
      ]
     },
     "execution_count": 150,
     "metadata": {},
     "output_type": "execute_result"
    }
   ],
   "execution_count": 150
  },
  {
   "metadata": {
    "ExecuteTime": {
     "end_time": "2025-06-25T10:28:21.456528Z",
     "start_time": "2025-06-25T10:28:21.454867Z"
    }
   },
   "cell_type": "code",
   "source": "encoder = model.encoders[0]",
   "id": "37cfccd3dc31d6e5",
   "outputs": [],
   "execution_count": 151
  },
  {
   "metadata": {
    "ExecuteTime": {
     "end_time": "2025-06-25T10:28:22.488696Z",
     "start_time": "2025-06-25T10:28:22.486768Z"
    }
   },
   "cell_type": "code",
   "source": "images = images.to(device)",
   "id": "75910ebde7807667",
   "outputs": [],
   "execution_count": 152
  },
  {
   "metadata": {
    "ExecuteTime": {
     "end_time": "2025-06-25T10:28:23.535603Z",
     "start_time": "2025-06-25T10:28:23.533436Z"
    }
   },
   "cell_type": "code",
   "source": "images.device",
   "id": "c79a6ca8607c2bbe",
   "outputs": [
    {
     "data": {
      "text/plain": [
       "device(type='mps', index=0)"
      ]
     },
     "execution_count": 153,
     "metadata": {},
     "output_type": "execute_result"
    }
   ],
   "execution_count": 153
  },
  {
   "metadata": {
    "ExecuteTime": {
     "end_time": "2025-06-25T10:28:55.958297Z",
     "start_time": "2025-06-25T10:28:55.955685Z"
    }
   },
   "cell_type": "code",
   "source": "images.shape",
   "id": "7f0fff71c2da9a2a",
   "outputs": [
    {
     "data": {
      "text/plain": [
       "torch.Size([1024, 1, 28, 28])"
      ]
     },
     "execution_count": 155,
     "metadata": {},
     "output_type": "execute_result"
    }
   ],
   "execution_count": 155
  },
  {
   "metadata": {
    "ExecuteTime": {
     "end_time": "2025-06-25T10:30:05.862408Z",
     "start_time": "2025-06-25T10:30:05.859238Z"
    }
   },
   "cell_type": "code",
   "source": "model",
   "id": "eddbc62f25698001",
   "outputs": [
    {
     "data": {
      "text/plain": [
       "Classifier(\n",
       "  (patchify): Patchify(\n",
       "    (unfold): Unfold(kernel_size=14, dilation=1, padding=0, stride=14)\n",
       "    (linear): Linear(in_features=196, out_features=384, bias=False)\n",
       "  )\n",
       "  (pe): PositionalEncoding()\n",
       "  (encoders): ModuleList(\n",
       "    (0-2): 3 x Encoder(\n",
       "      (mha): MultiHeadAttention(\n",
       "        (wqkv): Linear(in_features=384, out_features=1152, bias=False)\n",
       "        (endmulti): Linear(in_features=384, out_features=384, bias=False)\n",
       "      )\n",
       "      (norm1): LayerNorm((384,), eps=1e-05, elementwise_affine=True)\n",
       "      (ffn): FeedForward(\n",
       "        (sequence): Sequential(\n",
       "          (0): Linear(in_features=384, out_features=64, bias=True)\n",
       "          (1): ReLU()\n",
       "          (2): Linear(in_features=64, out_features=384, bias=True)\n",
       "        )\n",
       "      )\n",
       "      (norm2): LayerNorm((384,), eps=1e-05, elementwise_affine=True)\n",
       "    )\n",
       "  )\n",
       "  (linear): Sequential(\n",
       "    (0): LayerNorm((384,), eps=1e-05, elementwise_affine=True)\n",
       "    (1): Linear(in_features=384, out_features=384, bias=True)\n",
       "    (2): GELU(approximate='none')\n",
       "    (3): Linear(in_features=384, out_features=10, bias=True)\n",
       "  )\n",
       ")"
      ]
     },
     "execution_count": 157,
     "metadata": {},
     "output_type": "execute_result"
    }
   ],
   "execution_count": 157
  },
  {
   "metadata": {
    "ExecuteTime": {
     "end_time": "2025-06-25T10:31:56.591920Z",
     "start_time": "2025-06-25T10:31:56.590346Z"
    }
   },
   "cell_type": "code",
   "source": "patchify=model.patchify",
   "id": "dc2140e1f3558c23",
   "outputs": [],
   "execution_count": 159
  },
  {
   "metadata": {
    "ExecuteTime": {
     "end_time": "2025-06-25T10:32:52.931023Z",
     "start_time": "2025-06-25T10:32:52.927800Z"
    }
   },
   "cell_type": "code",
   "source": "patches = patchify.unfold(images)",
   "id": "c36d96d1084edf0b",
   "outputs": [],
   "execution_count": 163
  },
  {
   "metadata": {
    "ExecuteTime": {
     "end_time": "2025-06-25T10:32:57.222721Z",
     "start_time": "2025-06-25T10:32:57.219538Z"
    }
   },
   "cell_type": "code",
   "source": "patches.shape",
   "id": "765607bd531533bc",
   "outputs": [
    {
     "data": {
      "text/plain": [
       "torch.Size([1024, 196, 4])"
      ]
     },
     "execution_count": 164,
     "metadata": {},
     "output_type": "execute_result"
    }
   ],
   "execution_count": 164
  },
  {
   "metadata": {
    "ExecuteTime": {
     "end_time": "2025-06-25T10:33:21.913942Z",
     "start_time": "2025-06-25T10:33:21.911621Z"
    }
   },
   "cell_type": "code",
   "source": [
    "rotated = patches.permute(0,2,1)\n",
    "rotated.shape"
   ],
   "id": "f021752689bbb06b",
   "outputs": [
    {
     "data": {
      "text/plain": [
       "torch.Size([1024, 4, 196])"
      ]
     },
     "execution_count": 167,
     "metadata": {},
     "output_type": "execute_result"
    }
   ],
   "execution_count": 167
  },
  {
   "metadata": {
    "ExecuteTime": {
     "end_time": "2025-06-25T10:33:58.632623Z",
     "start_time": "2025-06-25T10:33:58.630270Z"
    }
   },
   "cell_type": "code",
   "source": [
    "patched = patchify.linear(rotated)\n",
    "patched.shape"
   ],
   "id": "b50c438f9949701c",
   "outputs": [
    {
     "data": {
      "text/plain": [
       "torch.Size([1024, 4, 384])"
      ]
     },
     "execution_count": 169,
     "metadata": {},
     "output_type": "execute_result"
    }
   ],
   "execution_count": 169
  },
  {
   "metadata": {
    "ExecuteTime": {
     "end_time": "2025-06-25T10:28:24.586323Z",
     "start_time": "2025-06-25T10:28:24.566657Z"
    }
   },
   "cell_type": "code",
   "source": [
    "B = images.size(0)\n",
    "\n",
    "D = patched.size(2)\n",
    "patched = model.pe(patched)\n",
    "cls_expanded = model.cls_token.expand(B, 1, D)\n",
    "withcls = torch.cat([cls_expanded, patched], dim=1)"
   ],
   "id": "fad2bece72d721e2",
   "outputs": [
    {
     "ename": "RuntimeError",
     "evalue": "number of dims don't match in permute",
     "output_type": "error",
     "traceback": [
      "\u001B[0;31m---------------------------------------------------------------------------\u001B[0m",
      "\u001B[0;31mRuntimeError\u001B[0m                              Traceback (most recent call last)",
      "Cell \u001B[0;32mIn[154], line 2\u001B[0m\n\u001B[1;32m      1\u001B[0m B \u001B[38;5;241m=\u001B[39m images\u001B[38;5;241m.\u001B[39msize(\u001B[38;5;241m0\u001B[39m)\n\u001B[0;32m----> 2\u001B[0m patched \u001B[38;5;241m=\u001B[39m \u001B[43mmodel\u001B[49m\u001B[38;5;241;43m.\u001B[39;49m\u001B[43mpatchify\u001B[49m\u001B[43m(\u001B[49m\u001B[43mx\u001B[49m\u001B[43m)\u001B[49m\n\u001B[1;32m      3\u001B[0m D \u001B[38;5;241m=\u001B[39m patched\u001B[38;5;241m.\u001B[39msize(\u001B[38;5;241m2\u001B[39m)\n\u001B[1;32m      4\u001B[0m patched \u001B[38;5;241m=\u001B[39m model\u001B[38;5;241m.\u001B[39mpe(patched)\n",
      "File \u001B[0;32m~/hh-mnist/.venv/lib/python3.10/site-packages/torch/nn/modules/module.py:1751\u001B[0m, in \u001B[0;36mModule._wrapped_call_impl\u001B[0;34m(self, *args, **kwargs)\u001B[0m\n\u001B[1;32m   1749\u001B[0m     \u001B[38;5;28;01mreturn\u001B[39;00m \u001B[38;5;28mself\u001B[39m\u001B[38;5;241m.\u001B[39m_compiled_call_impl(\u001B[38;5;241m*\u001B[39margs, \u001B[38;5;241m*\u001B[39m\u001B[38;5;241m*\u001B[39mkwargs)  \u001B[38;5;66;03m# type: ignore[misc]\u001B[39;00m\n\u001B[1;32m   1750\u001B[0m \u001B[38;5;28;01melse\u001B[39;00m:\n\u001B[0;32m-> 1751\u001B[0m     \u001B[38;5;28;01mreturn\u001B[39;00m \u001B[38;5;28;43mself\u001B[39;49m\u001B[38;5;241;43m.\u001B[39;49m\u001B[43m_call_impl\u001B[49m\u001B[43m(\u001B[49m\u001B[38;5;241;43m*\u001B[39;49m\u001B[43margs\u001B[49m\u001B[43m,\u001B[49m\u001B[43m \u001B[49m\u001B[38;5;241;43m*\u001B[39;49m\u001B[38;5;241;43m*\u001B[39;49m\u001B[43mkwargs\u001B[49m\u001B[43m)\u001B[49m\n",
      "File \u001B[0;32m~/hh-mnist/.venv/lib/python3.10/site-packages/torch/nn/modules/module.py:1762\u001B[0m, in \u001B[0;36mModule._call_impl\u001B[0;34m(self, *args, **kwargs)\u001B[0m\n\u001B[1;32m   1757\u001B[0m \u001B[38;5;66;03m# If we don't have any hooks, we want to skip the rest of the logic in\u001B[39;00m\n\u001B[1;32m   1758\u001B[0m \u001B[38;5;66;03m# this function, and just call forward.\u001B[39;00m\n\u001B[1;32m   1759\u001B[0m \u001B[38;5;28;01mif\u001B[39;00m \u001B[38;5;129;01mnot\u001B[39;00m (\u001B[38;5;28mself\u001B[39m\u001B[38;5;241m.\u001B[39m_backward_hooks \u001B[38;5;129;01mor\u001B[39;00m \u001B[38;5;28mself\u001B[39m\u001B[38;5;241m.\u001B[39m_backward_pre_hooks \u001B[38;5;129;01mor\u001B[39;00m \u001B[38;5;28mself\u001B[39m\u001B[38;5;241m.\u001B[39m_forward_hooks \u001B[38;5;129;01mor\u001B[39;00m \u001B[38;5;28mself\u001B[39m\u001B[38;5;241m.\u001B[39m_forward_pre_hooks\n\u001B[1;32m   1760\u001B[0m         \u001B[38;5;129;01mor\u001B[39;00m _global_backward_pre_hooks \u001B[38;5;129;01mor\u001B[39;00m _global_backward_hooks\n\u001B[1;32m   1761\u001B[0m         \u001B[38;5;129;01mor\u001B[39;00m _global_forward_hooks \u001B[38;5;129;01mor\u001B[39;00m _global_forward_pre_hooks):\n\u001B[0;32m-> 1762\u001B[0m     \u001B[38;5;28;01mreturn\u001B[39;00m \u001B[43mforward_call\u001B[49m\u001B[43m(\u001B[49m\u001B[38;5;241;43m*\u001B[39;49m\u001B[43margs\u001B[49m\u001B[43m,\u001B[49m\u001B[43m \u001B[49m\u001B[38;5;241;43m*\u001B[39;49m\u001B[38;5;241;43m*\u001B[39;49m\u001B[43mkwargs\u001B[49m\u001B[43m)\u001B[49m\n\u001B[1;32m   1764\u001B[0m result \u001B[38;5;241m=\u001B[39m \u001B[38;5;28;01mNone\u001B[39;00m\n\u001B[1;32m   1765\u001B[0m called_always_called_hooks \u001B[38;5;241m=\u001B[39m \u001B[38;5;28mset\u001B[39m()\n",
      "File \u001B[0;32m~/hh-mnist/models.py:39\u001B[0m, in \u001B[0;36mPatchify.forward\u001B[0;34m(self, x)\u001B[0m\n\u001B[1;32m     37\u001B[0m \u001B[38;5;28;01mdef\u001B[39;00m\u001B[38;5;250m \u001B[39m\u001B[38;5;21mforward\u001B[39m(\u001B[38;5;28mself\u001B[39m, x):\n\u001B[1;32m     38\u001B[0m     patches \u001B[38;5;241m=\u001B[39m \u001B[38;5;28mself\u001B[39m\u001B[38;5;241m.\u001B[39munfold(x)\n\u001B[0;32m---> 39\u001B[0m     rotated \u001B[38;5;241m=\u001B[39m \u001B[43mpatches\u001B[49m\u001B[38;5;241;43m.\u001B[39;49m\u001B[43mpermute\u001B[49m\u001B[43m(\u001B[49m\u001B[38;5;241;43m0\u001B[39;49m\u001B[43m,\u001B[49m\u001B[43m \u001B[49m\u001B[38;5;241;43m2\u001B[39;49m\u001B[43m,\u001B[49m\u001B[43m \u001B[49m\u001B[38;5;241;43m1\u001B[39;49m\u001B[43m)\u001B[49m\n\u001B[1;32m     40\u001B[0m     \u001B[38;5;28;01mreturn\u001B[39;00m \u001B[38;5;28mself\u001B[39m\u001B[38;5;241m.\u001B[39mlinear(rotated)\n",
      "\u001B[0;31mRuntimeError\u001B[0m: number of dims don't match in permute"
     ]
    }
   ],
   "execution_count": 154
  },
  {
   "metadata": {
    "ExecuteTime": {
     "end_time": "2025-06-25T10:28:24.596769Z",
     "start_time": "2025-06-25T10:21:07.282430Z"
    }
   },
   "cell_type": "code",
   "source": [
    "endhead = nn.Linear(32, 64, bias=False).to(device)\n",
    "norm1 = nn.LayerNorm(64).to(device)\n",
    "norm2 = nn.LayerNorm(64).to(device)\n"
   ],
   "id": "c8c790dacd22db5d",
   "outputs": [],
   "execution_count": 115
  },
  {
   "metadata": {
    "ExecuteTime": {
     "end_time": "2025-06-25T10:28:24.599275Z",
     "start_time": "2025-06-25T10:21:08.315287Z"
    }
   },
   "cell_type": "code",
   "source": [
    "q = encoder.wq(x)\n",
    "k = encoder.wk(x)\n",
    "v = encoder.wv(x)\n",
    "kt = k.permute(0, 2, 1)\n",
    "\n",
    "# do attention(Q, K, V) = softmax(Q·K^T / sqrt(dims))·V to get hidden state (where · is dot product)\n",
    "attn_dot_product = torch.matmul(q, kt)\n",
    "attn_scaled = attn_dot_product / math.sqrt(models.K_DIM)\n",
    "attn_probs = torch.softmax(attn_scaled, dim=1)\n",
    "hidden = torch.matmul(attn_probs, v)\n",
    "sublayer1 = endhead(hidden)"
   ],
   "id": "ad8151a17615377a",
   "outputs": [
    {
     "ename": "AttributeError",
     "evalue": "'Encoder' object has no attribute 'wq'",
     "output_type": "error",
     "traceback": [
      "\u001B[0;31m---------------------------------------------------------------------------\u001B[0m",
      "\u001B[0;31mAttributeError\u001B[0m                            Traceback (most recent call last)",
      "Cell \u001B[0;32mIn[116], line 1\u001B[0m\n\u001B[0;32m----> 1\u001B[0m q \u001B[38;5;241m=\u001B[39m \u001B[43mencoder\u001B[49m\u001B[38;5;241;43m.\u001B[39;49m\u001B[43mwq\u001B[49m(x)\n\u001B[1;32m      2\u001B[0m k \u001B[38;5;241m=\u001B[39m encoder\u001B[38;5;241m.\u001B[39mwk(x)\n\u001B[1;32m      3\u001B[0m v \u001B[38;5;241m=\u001B[39m encoder\u001B[38;5;241m.\u001B[39mwv(x)\n",
      "File \u001B[0;32m~/hh-mnist/.venv/lib/python3.10/site-packages/torch/nn/modules/module.py:1940\u001B[0m, in \u001B[0;36mModule.__getattr__\u001B[0;34m(self, name)\u001B[0m\n\u001B[1;32m   1938\u001B[0m     \u001B[38;5;28;01mif\u001B[39;00m name \u001B[38;5;129;01min\u001B[39;00m modules:\n\u001B[1;32m   1939\u001B[0m         \u001B[38;5;28;01mreturn\u001B[39;00m modules[name]\n\u001B[0;32m-> 1940\u001B[0m \u001B[38;5;28;01mraise\u001B[39;00m \u001B[38;5;167;01mAttributeError\u001B[39;00m(\n\u001B[1;32m   1941\u001B[0m     \u001B[38;5;124mf\u001B[39m\u001B[38;5;124m\"\u001B[39m\u001B[38;5;124m'\u001B[39m\u001B[38;5;132;01m{\u001B[39;00m\u001B[38;5;28mtype\u001B[39m(\u001B[38;5;28mself\u001B[39m)\u001B[38;5;241m.\u001B[39m\u001B[38;5;18m__name__\u001B[39m\u001B[38;5;132;01m}\u001B[39;00m\u001B[38;5;124m'\u001B[39m\u001B[38;5;124m object has no attribute \u001B[39m\u001B[38;5;124m'\u001B[39m\u001B[38;5;132;01m{\u001B[39;00mname\u001B[38;5;132;01m}\u001B[39;00m\u001B[38;5;124m'\u001B[39m\u001B[38;5;124m\"\u001B[39m\n\u001B[1;32m   1942\u001B[0m )\n",
      "\u001B[0;31mAttributeError\u001B[0m: 'Encoder' object has no attribute 'wq'"
     ]
    }
   ],
   "execution_count": 116
  },
  {
   "metadata": {
    "ExecuteTime": {
     "end_time": "2025-06-25T10:28:24.599542Z",
     "start_time": "2025-06-25T10:01:41.284936Z"
    }
   },
   "cell_type": "code",
   "source": [
    "print(x.shape)\n",
    "print(q.shape)\n",
    "print(k.shape)\n",
    "print(v.shape)\n",
    "print(kt.shape)\n",
    "print(attn_dot_product.shape)\n",
    "print(attn_scaled.shape)\n",
    "print(attn_probs.shape)\n",
    "print(hidden.shape)\n",
    "print(sublayer1.shape)"
   ],
   "id": "61c3dfe1201d37d7",
   "outputs": [
    {
     "name": "stdout",
     "output_type": "stream",
     "text": [
      "torch.Size([64, 16, 64])\n",
      "torch.Size([64, 16, 24])\n",
      "torch.Size([64, 16, 24])\n",
      "torch.Size([64, 16, 32])\n",
      "torch.Size([64, 24, 16])\n",
      "torch.Size([64, 16, 16])\n",
      "torch.Size([64, 16, 16])\n",
      "torch.Size([64, 16, 16])\n",
      "torch.Size([64, 16, 32])\n",
      "torch.Size([64, 16, 64])\n"
     ]
    }
   ],
   "execution_count": 521
  },
  {
   "metadata": {
    "ExecuteTime": {
     "end_time": "2025-06-25T10:28:24.599655Z",
     "start_time": "2025-06-25T10:01:42.124482Z"
    }
   },
   "cell_type": "code",
   "source": [
    "addnormed = norm1(x + sublayer1)\n",
    "addnormed.shape"
   ],
   "id": "9e447bdfb012f807",
   "outputs": [
    {
     "data": {
      "text/plain": [
       "torch.Size([64, 16, 64])"
      ]
     },
     "execution_count": 522,
     "metadata": {},
     "output_type": "execute_result"
    }
   ],
   "execution_count": 522
  },
  {
   "metadata": {
    "ExecuteTime": {
     "end_time": "2025-06-25T10:28:24.599750Z",
     "start_time": "2025-06-25T10:01:42.976801Z"
    }
   },
   "cell_type": "code",
   "source": [
    "myffn=     nn.Sequential(\n",
    "            nn.Linear(64, 64),\n",
    "            nn.ReLU(),\n",
    "            nn.Linear(64, 64),\n",
    "        ).to(device)"
   ],
   "id": "7c1a6bda0a89607e",
   "outputs": [],
   "execution_count": 523
  },
  {
   "metadata": {
    "ExecuteTime": {
     "end_time": "2025-06-25T10:28:24.599810Z",
     "start_time": "2025-06-25T10:01:43.838287Z"
    }
   },
   "cell_type": "code",
   "source": [
    "\n",
    "# pass attention output through feed-forward sub-layer (basic MLP)\n",
    "ffned = myffn(addnormed)\n",
    "added = addnormed + ffned\n",
    "final = norm2(added)"
   ],
   "id": "bb00c592006d2475",
   "outputs": [],
   "execution_count": 524
  },
  {
   "metadata": {
    "ExecuteTime": {
     "end_time": "2025-06-25T10:28:24.599873Z",
     "start_time": "2025-06-25T10:01:44.665483Z"
    }
   },
   "cell_type": "code",
   "source": "final.shape",
   "id": "d2861ce7b28ce68a",
   "outputs": [
    {
     "data": {
      "text/plain": [
       "torch.Size([64, 16, 64])"
      ]
     },
     "execution_count": 525,
     "metadata": {},
     "output_type": "execute_result"
    }
   ],
   "execution_count": 525
  },
  {
   "metadata": {
    "ExecuteTime": {
     "end_time": "2025-06-25T10:28:24.599932Z",
     "start_time": "2025-06-25T10:01:45.490541Z"
    }
   },
   "cell_type": "code",
   "source": "encoded = encoder(x)",
   "id": "c46e028ef01b7cce",
   "outputs": [],
   "execution_count": 526
  },
  {
   "metadata": {
    "ExecuteTime": {
     "end_time": "2025-06-25T10:28:24.599987Z",
     "start_time": "2025-06-25T10:01:46.318940Z"
    }
   },
   "cell_type": "code",
   "source": "encoded.shape",
   "id": "fda52f56c9d25a30",
   "outputs": [
    {
     "data": {
      "text/plain": [
       "torch.Size([64, 16, 64])"
      ]
     },
     "execution_count": 527,
     "metadata": {},
     "output_type": "execute_result"
    }
   ],
   "execution_count": 527
  },
  {
   "metadata": {
    "ExecuteTime": {
     "end_time": "2025-06-25T10:28:24.606495Z",
     "start_time": "2025-06-25T10:01:47.142168Z"
    }
   },
   "cell_type": "code",
   "source": "",
   "id": "9a7836f81ae259df",
   "outputs": [],
   "execution_count": null
  }
 ],
 "metadata": {
  "kernelspec": {
   "display_name": "Python 3",
   "language": "python",
   "name": "python3"
  },
  "language_info": {
   "codemirror_mode": {
    "name": "ipython",
    "version": 2
   },
   "file_extension": ".py",
   "mimetype": "text/x-python",
   "name": "python",
   "nbconvert_exporter": "python",
   "pygments_lexer": "ipython2",
   "version": "2.7.6"
  }
 },
 "nbformat": 4,
 "nbformat_minor": 5
}
