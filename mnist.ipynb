{
 "cells": [
  {
   "cell_type": "code",
   "id": "initial_id",
   "metadata": {
    "ExecuteTime": {
     "end_time": "2025-06-24T15:15:18.666239Z",
     "start_time": "2025-06-24T15:15:18.660468Z"
    }
   },
   "source": [
    "import math\n",
    "import torch\n",
    "import torch.nn as nn\n",
    "from torchvision import datasets\n",
    "from torchvision.transforms import v2\n",
    "%matplotlib inline\n",
    "import matplotlib.pyplot as plt\n",
    "from torch.utils.data import DataLoader, TensorDataset\n",
    "import models\n",
    "import utils"
   ],
   "outputs": [],
   "execution_count": 105
  },
  {
   "cell_type": "code",
   "id": "ee6f59aa199d6bdf",
   "metadata": {
    "ExecuteTime": {
     "end_time": "2025-06-24T13:58:11.739002Z",
     "start_time": "2025-06-24T13:58:11.734212Z"
    }
   },
   "source": [
    "transform = v2.Compose([v2.ToImage(), v2.ToDtype(torch.float32, scale=True)])\n",
    "test_data = datasets.MNIST(\n",
    "    root=\"data\", train=False, download=True, transform=transform\n",
    ")\n",
    "test_dataloader = DataLoader(test_data, batch_size=64, shuffle=False)\n"
   ],
   "outputs": [],
   "execution_count": 46
  },
  {
   "metadata": {
    "ExecuteTime": {
     "end_time": "2025-06-24T13:58:11.769841Z",
     "start_time": "2025-06-24T13:58:11.750842Z"
    }
   },
   "cell_type": "code",
   "source": [
    "composite_data = torch.load('data/composite_test.pt')\n",
    "composite_dataset = TensorDataset(composite_data['images'], composite_data['output_seqs'])\n",
    "composite_dataloader = DataLoader(composite_dataset, batch_size=64, shuffle=False)"
   ],
   "id": "69f08b496482577e",
   "outputs": [],
   "execution_count": 47
  },
  {
   "metadata": {
    "ExecuteTime": {
     "end_time": "2025-06-24T13:58:11.783775Z",
     "start_time": "2025-06-24T13:58:11.781493Z"
    }
   },
   "cell_type": "code",
   "source": "images, labels = next(iter(composite_dataloader))",
   "id": "4a367a6971d3e170",
   "outputs": [],
   "execution_count": 48
  },
  {
   "metadata": {
    "ExecuteTime": {
     "end_time": "2025-06-24T13:58:11.799318Z",
     "start_time": "2025-06-24T13:58:11.797249Z"
    }
   },
   "cell_type": "code",
   "source": "labels.shape",
   "id": "9d5cefa663e6a97a",
   "outputs": [
    {
     "data": {
      "text/plain": [
       "torch.Size([64, 5])"
      ]
     },
     "execution_count": 49,
     "metadata": {},
     "output_type": "execute_result"
    }
   ],
   "execution_count": 49
  },
  {
   "metadata": {
    "ExecuteTime": {
     "end_time": "2025-06-24T13:58:11.814279Z",
     "start_time": "2025-06-24T13:58:11.812083Z"
    }
   },
   "cell_type": "code",
   "source": "images.shape\n",
   "id": "2444becaaf07d571",
   "outputs": [
    {
     "data": {
      "text/plain": [
       "torch.Size([64, 1, 56, 56])"
      ]
     },
     "execution_count": 50,
     "metadata": {},
     "output_type": "execute_result"
    }
   ],
   "execution_count": 50
  },
  {
   "metadata": {
    "ExecuteTime": {
     "end_time": "2025-06-24T13:58:11.858415Z",
     "start_time": "2025-06-24T13:58:11.826857Z"
    }
   },
   "cell_type": "code",
   "source": [
    "plt.imshow(images[8].reshape(56,56), cmap=\"gray\")\n",
    "plt.show()"
   ],
   "id": "1181bf8839d64f5e",
   "outputs": [
    {
     "data": {
      "text/plain": [
       "<Figure size 640x480 with 1 Axes>"
      ],
      "image/png": "[encoded data removed]"
     },
     "metadata": {},
     "output_type": "display_data"
    }
   ],
   "execution_count": 51
  },
  {
   "metadata": {
    "ExecuteTime": {
     "end_time": "2025-06-24T13:58:11.877193Z",
     "start_time": "2025-06-24T13:58:11.871835Z"
    }
   },
   "cell_type": "code",
   "source": "images, labels = next(iter(test_dataloader))",
   "id": "e872c29a7fcf20f2",
   "outputs": [],
   "execution_count": 52
  },
  {
   "metadata": {
    "ExecuteTime": {
     "end_time": "2025-06-24T13:58:11.896498Z",
     "start_time": "2025-06-24T13:58:11.893702Z"
    }
   },
   "cell_type": "code",
   "source": "labels",
   "id": "7ae728ba7a82990d",
   "outputs": [
    {
     "data": {
      "text/plain": [
       "tensor([7, 2, 1, 0, 4, 1, 4, 9, 5, 9, 0, 6, 9, 0, 1, 5, 9, 7, 3, 4, 9, 6, 6, 5,\n",
       "        4, 0, 7, 4, 0, 1, 3, 1, 3, 4, 7, 2, 7, 1, 2, 1, 1, 7, 4, 2, 3, 5, 1, 2,\n",
       "        4, 4, 6, 3, 5, 5, 6, 0, 4, 1, 9, 5, 7, 8, 9, 3])"
      ]
     },
     "execution_count": 53,
     "metadata": {},
     "output_type": "execute_result"
    }
   ],
   "execution_count": 53
  },
  {
   "cell_type": "code",
   "id": "284642f221bc2d9f",
   "metadata": {
    "ExecuteTime": {
     "end_time": "2025-06-24T13:58:11.910739Z",
     "start_time": "2025-06-24T13:58:11.909060Z"
    }
   },
   "source": [
    "image = images[0]"
   ],
   "outputs": [],
   "execution_count": 54
  },
  {
   "cell_type": "code",
   "id": "20375536221c1e0a",
   "metadata": {
    "ExecuteTime": {
     "end_time": "2025-06-24T13:58:11.924450Z",
     "start_time": "2025-06-24T13:58:11.922916Z"
    }
   },
   "source": [
    "c, h, w = image.shape"
   ],
   "outputs": [],
   "execution_count": 55
  },
  {
   "cell_type": "code",
   "id": "68392518278de410",
   "metadata": {
    "ExecuteTime": {
     "end_time": "2025-06-24T13:58:11.939364Z",
     "start_time": "2025-06-24T13:58:11.936008Z"
    }
   },
   "source": [
    "unfolder = nn.Unfold(kernel_size=14, stride=14)\n",
    "patches = unfolder(images)"
   ],
   "outputs": [],
   "execution_count": 56
  },
  {
   "cell_type": "code",
   "id": "5d6aaf2292384288",
   "metadata": {
    "ExecuteTime": {
     "end_time": "2025-06-24T13:58:11.953140Z",
     "start_time": "2025-06-24T13:58:11.950957Z"
    }
   },
   "source": [
    "patches.shape"
   ],
   "outputs": [
    {
     "data": {
      "text/plain": [
       "torch.Size([64, 196, 4])"
      ]
     },
     "execution_count": 57,
     "metadata": {},
     "output_type": "execute_result"
    }
   ],
   "execution_count": 57
  },
  {
   "cell_type": "code",
   "id": "3d53b40168095fac",
   "metadata": {
    "ExecuteTime": {
     "end_time": "2025-06-24T13:58:11.967238Z",
     "start_time": "2025-06-24T13:58:11.965626Z"
    }
   },
   "source": [
    "rotated = patches.permute(0, 2, 1)"
   ],
   "outputs": [],
   "execution_count": 58
  },
  {
   "cell_type": "code",
   "id": "dda1167e320d3ce3",
   "metadata": {
    "ExecuteTime": {
     "end_time": "2025-06-24T13:58:11.981092Z",
     "start_time": "2025-06-24T13:58:11.978821Z"
    }
   },
   "source": [
    "rotated.shape"
   ],
   "outputs": [
    {
     "data": {
      "text/plain": [
       "torch.Size([64, 4, 196])"
      ]
     },
     "execution_count": 59,
     "metadata": {},
     "output_type": "execute_result"
    }
   ],
   "execution_count": 59
  },
  {
   "cell_type": "code",
   "id": "88f52e346db9cef",
   "metadata": {
    "ExecuteTime": {
     "end_time": "2025-06-24T13:58:11.995175Z",
     "start_time": "2025-06-24T13:58:11.993244Z"
    }
   },
   "source": [
    "linear = nn.Linear(196, 64, bias=False)"
   ],
   "outputs": [],
   "execution_count": 60
  },
  {
   "cell_type": "code",
   "id": "86959122f347d5ad",
   "metadata": {
    "ExecuteTime": {
     "end_time": "2025-06-24T13:58:12.009218Z",
     "start_time": "2025-06-24T13:58:12.007297Z"
    }
   },
   "source": [
    "result = linear(rotated)"
   ],
   "outputs": [],
   "execution_count": 61
  },
  {
   "cell_type": "code",
   "id": "192b6f975bcf9468",
   "metadata": {
    "ExecuteTime": {
     "end_time": "2025-06-24T13:58:12.023164Z",
     "start_time": "2025-06-24T13:58:12.020659Z"
    }
   },
   "source": [
    "result.shape"
   ],
   "outputs": [
    {
     "data": {
      "text/plain": [
       "torch.Size([64, 4, 64])"
      ]
     },
     "execution_count": 62,
     "metadata": {},
     "output_type": "execute_result"
    }
   ],
   "execution_count": 62
  },
  {
   "cell_type": "code",
   "id": "b4c0dc3548e3b2c",
   "metadata": {
    "ExecuteTime": {
     "end_time": "2025-06-24T13:58:12.039341Z",
     "start_time": "2025-06-24T13:58:12.036814Z"
    }
   },
   "source": [
    "rotated[0].shape"
   ],
   "outputs": [
    {
     "data": {
      "text/plain": [
       "torch.Size([4, 196])"
      ]
     },
     "execution_count": 63,
     "metadata": {},
     "output_type": "execute_result"
    }
   ],
   "execution_count": 63
  },
  {
   "cell_type": "code",
   "id": "c33f8be1c847b2c9",
   "metadata": {
    "ExecuteTime": {
     "end_time": "2025-06-24T13:58:12.054823Z",
     "start_time": "2025-06-24T13:58:12.053063Z"
    }
   },
   "source": [
    "import models"
   ],
   "outputs": [],
   "execution_count": 64
  },
  {
   "cell_type": "code",
   "id": "655782b4f982881",
   "metadata": {
    "ExecuteTime": {
     "end_time": "2025-06-24T13:58:12.069376Z",
     "start_time": "2025-06-24T13:58:12.067809Z"
    }
   },
   "source": [
    "loss_fn = nn.CrossEntropyLoss()"
   ],
   "outputs": [],
   "execution_count": 65
  },
  {
   "cell_type": "code",
   "id": "b03035f93a60f5ca",
   "metadata": {
    "ExecuteTime": {
     "end_time": "2025-06-24T13:58:12.087375Z",
     "start_time": "2025-06-24T13:58:12.080369Z"
    }
   },
   "source": [
    "patchify = models.Patchify()\n",
    "encoders = nn.ModuleList([models.Encoder() for _ in range(6)])\n",
    "linear = nn.Linear(64, 10)\n",
    "patched = patchify(images)\n",
    "for encoder in encoders:\n",
    "    patched = encoder(patched)\n",
    "result = linear(patched)"
   ],
   "outputs": [],
   "execution_count": 66
  },
  {
   "cell_type": "code",
   "id": "a924866187b41e8b",
   "metadata": {
    "ExecuteTime": {
     "end_time": "2025-06-24T13:58:12.162289Z",
     "start_time": "2025-06-24T13:58:12.160256Z"
    }
   },
   "source": [
    "result.shape"
   ],
   "outputs": [
    {
     "data": {
      "text/plain": [
       "torch.Size([64, 16, 10])"
      ]
     },
     "execution_count": 67,
     "metadata": {},
     "output_type": "execute_result"
    }
   ],
   "execution_count": 67
  },
  {
   "cell_type": "code",
   "id": "f2dfefc42709ab15",
   "metadata": {
    "ExecuteTime": {
     "end_time": "2025-06-24T13:58:12.176223Z",
     "start_time": "2025-06-24T13:58:12.173977Z"
    }
   },
   "source": [
    "meaned = result.mean(dim=1)"
   ],
   "outputs": [],
   "execution_count": 68
  },
  {
   "cell_type": "code",
   "id": "58b492cbc9d0e660",
   "metadata": {
    "ExecuteTime": {
     "end_time": "2025-06-24T13:58:12.189776Z",
     "start_time": "2025-06-24T13:58:12.187652Z"
    }
   },
   "source": [
    "meaned.shape"
   ],
   "outputs": [
    {
     "data": {
      "text/plain": [
       "torch.Size([64, 10])"
      ]
     },
     "execution_count": 69,
     "metadata": {},
     "output_type": "execute_result"
    }
   ],
   "execution_count": 69
  },
  {
   "cell_type": "code",
   "id": "9d1c927f080af97f",
   "metadata": {
    "ExecuteTime": {
     "end_time": "2025-06-24T13:58:12.204130Z",
     "start_time": "2025-06-24T13:58:12.202041Z"
    }
   },
   "source": [
    "labels.shape"
   ],
   "outputs": [
    {
     "data": {
      "text/plain": [
       "torch.Size([64])"
      ]
     },
     "execution_count": 70,
     "metadata": {},
     "output_type": "execute_result"
    }
   ],
   "execution_count": 70
  },
  {
   "cell_type": "code",
   "id": "f62a30902f0845f4",
   "metadata": {
    "ExecuteTime": {
     "end_time": "2025-06-24T13:58:12.217844Z",
     "start_time": "2025-06-24T13:58:12.216169Z"
    }
   },
   "source": [
    "loss_fn = nn.CrossEntropyLoss()"
   ],
   "outputs": [],
   "execution_count": 71
  },
  {
   "cell_type": "code",
   "id": "8957374f3cada625",
   "metadata": {
    "ExecuteTime": {
     "end_time": "2025-06-24T13:58:12.231385Z",
     "start_time": "2025-06-24T13:58:12.229595Z"
    }
   },
   "source": [
    "loss= loss_fn(meaned, labels)"
   ],
   "outputs": [],
   "execution_count": 72
  },
  {
   "cell_type": "code",
   "id": "d31088927741a88f",
   "metadata": {
    "ExecuteTime": {
     "end_time": "2025-06-24T13:58:12.258662Z",
     "start_time": "2025-06-24T13:58:12.242445Z"
    }
   },
   "source": [
    "loss.backward()"
   ],
   "outputs": [],
   "execution_count": 73
  },
  {
   "cell_type": "code",
   "id": "91362cd0e7159465",
   "metadata": {
    "ExecuteTime": {
     "end_time": "2025-06-24T13:58:12.273284Z",
     "start_time": "2025-06-24T13:58:12.270992Z"
    }
   },
   "source": [
    "# pe work\n",
    "pe = torch.zeros(128, 64)\n",
    "position = torch.arange(0, 128, dtype=torch.float).unsqueeze(1)\n",
    "pe.shape\n"
   ],
   "outputs": [
    {
     "data": {
      "text/plain": [
       "torch.Size([128, 64])"
      ]
     },
     "execution_count": 74,
     "metadata": {},
     "output_type": "execute_result"
    }
   ],
   "execution_count": 74
  },
  {
   "cell_type": "code",
   "id": "e904679d",
   "metadata": {
    "ExecuteTime": {
     "end_time": "2025-06-24T13:58:12.288536Z",
     "start_time": "2025-06-24T13:58:12.286412Z"
    }
   },
   "source": [
    "position.shape"
   ],
   "outputs": [
    {
     "data": {
      "text/plain": [
       "torch.Size([128, 1])"
      ]
     },
     "execution_count": 75,
     "metadata": {},
     "output_type": "execute_result"
    }
   ],
   "execution_count": 75
  },
  {
   "cell_type": "code",
   "id": "77ccfbb1",
   "metadata": {
    "ExecuteTime": {
     "end_time": "2025-06-24T13:58:12.304513Z",
     "start_time": "2025-06-24T13:58:12.301532Z"
    }
   },
   "source": [
    "# div_term = torch.exp()\n",
    "evens = torch.arange(0, 64, 2)\n",
    "magic = math.log(10_000.0) / 64\n",
    "div_terms = evens * - magic\n",
    "div_terms = torch.exp(div_terms)\n",
    "# div_terms.shape == 32\n",
    "div_terms"
   ],
   "outputs": [
    {
     "data": {
      "text/plain": [
       "tensor([1.0000e+00, 7.4989e-01, 5.6234e-01, 4.2170e-01, 3.1623e-01, 2.3714e-01,\n",
       "        1.7783e-01, 1.3335e-01, 1.0000e-01, 7.4989e-02, 5.6234e-02, 4.2170e-02,\n",
       "        3.1623e-02, 2.3714e-02, 1.7783e-02, 1.3335e-02, 1.0000e-02, 7.4989e-03,\n",
       "        5.6234e-03, 4.2170e-03, 3.1623e-03, 2.3714e-03, 1.7783e-03, 1.3335e-03,\n",
       "        1.0000e-03, 7.4989e-04, 5.6234e-04, 4.2170e-04, 3.1623e-04, 2.3714e-04,\n",
       "        1.7783e-04, 1.3335e-04])"
      ]
     },
     "execution_count": 76,
     "metadata": {},
     "output_type": "execute_result"
    }
   ],
   "execution_count": 76
  },
  {
   "cell_type": "code",
   "id": "9d5d99a2",
   "metadata": {
    "ExecuteTime": {
     "end_time": "2025-06-24T13:58:12.320014Z",
     "start_time": "2025-06-24T13:58:12.317544Z"
    }
   },
   "source": [
    "sines = torch.sin(position * div_terms)\n",
    "cosines = torch.cos(position * div_terms)\n",
    "sines.shape"
   ],
   "outputs": [
    {
     "data": {
      "text/plain": [
       "torch.Size([128, 32])"
      ]
     },
     "execution_count": 77,
     "metadata": {},
     "output_type": "execute_result"
    }
   ],
   "execution_count": 77
  },
  {
   "metadata": {
    "ExecuteTime": {
     "end_time": "2025-06-24T13:58:12.431313Z",
     "start_time": "2025-06-24T13:58:12.333390Z"
    }
   },
   "cell_type": "code",
   "source": "tensors = torch.load(\"data/composite_train.pt\")",
   "id": "6fe012013dfeedd",
   "outputs": [],
   "execution_count": 78
  },
  {
   "metadata": {
    "ExecuteTime": {
     "end_time": "2025-06-24T13:58:12.448983Z",
     "start_time": "2025-06-24T13:58:12.445476Z"
    }
   },
   "cell_type": "code",
   "source": "tensors",
   "id": "216c1d93a156f445",
   "outputs": [
    {
     "data": {
      "text/plain": [
       "{'images': tensor([[[[0., 0., 0.,  ..., 0., 0., 0.],\n",
       "           [0., 0., 0.,  ..., 0., 0., 0.],\n",
       "           [0., 0., 0.,  ..., 0., 0., 0.],\n",
       "           ...,\n",
       "           [0., 0., 0.,  ..., 0., 0., 0.],\n",
       "           [0., 0., 0.,  ..., 0., 0., 0.],\n",
       "           [0., 0., 0.,  ..., 0., 0., 0.]]],\n",
       " \n",
       " \n",
       "         [[[0., 0., 0.,  ..., 0., 0., 0.],\n",
       "           [0., 0., 0.,  ..., 0., 0., 0.],\n",
       "           [0., 0., 0.,  ..., 0., 0., 0.],\n",
       "           ...,\n",
       "           [0., 0., 0.,  ..., 0., 0., 0.],\n",
       "           [0., 0., 0.,  ..., 0., 0., 0.],\n",
       "           [0., 0., 0.,  ..., 0., 0., 0.]]],\n",
       " \n",
       " \n",
       "         [[[0., 0., 0.,  ..., 0., 0., 0.],\n",
       "           [0., 0., 0.,  ..., 0., 0., 0.],\n",
       "           [0., 0., 0.,  ..., 0., 0., 0.],\n",
       "           ...,\n",
       "           [0., 0., 0.,  ..., 0., 0., 0.],\n",
       "           [0., 0., 0.,  ..., 0., 0., 0.],\n",
       "           [0., 0., 0.,  ..., 0., 0., 0.]]],\n",
       " \n",
       " \n",
       "         ...,\n",
       " \n",
       " \n",
       "         [[[0., 0., 0.,  ..., 0., 0., 0.],\n",
       "           [0., 0., 0.,  ..., 0., 0., 0.],\n",
       "           [0., 0., 0.,  ..., 0., 0., 0.],\n",
       "           ...,\n",
       "           [0., 0., 0.,  ..., 0., 0., 0.],\n",
       "           [0., 0., 0.,  ..., 0., 0., 0.],\n",
       "           [0., 0., 0.,  ..., 0., 0., 0.]]],\n",
       " \n",
       " \n",
       "         [[[0., 0., 0.,  ..., 0., 0., 0.],\n",
       "           [0., 0., 0.,  ..., 0., 0., 0.],\n",
       "           [0., 0., 0.,  ..., 0., 0., 0.],\n",
       "           ...,\n",
       "           [0., 0., 0.,  ..., 0., 0., 0.],\n",
       "           [0., 0., 0.,  ..., 0., 0., 0.],\n",
       "           [0., 0., 0.,  ..., 0., 0., 0.]]],\n",
       " \n",
       " \n",
       "         [[[0., 0., 0.,  ..., 0., 0., 0.],\n",
       "           [0., 0., 0.,  ..., 0., 0., 0.],\n",
       "           [0., 0., 0.,  ..., 0., 0., 0.],\n",
       "           ...,\n",
       "           [0., 0., 0.,  ..., 0., 0., 0.],\n",
       "           [0., 0., 0.,  ..., 0., 0., 0.],\n",
       "           [0., 0., 0.,  ..., 0., 0., 0.]]]]),\n",
       " 'input_seqs': tensor([[10,  9,  3, 12, 12],\n",
       "         [10,  0,  5,  7,  3],\n",
       "         [10,  7,  1,  5,  6],\n",
       "         ...,\n",
       "         [10,  4,  7,  3, 12],\n",
       "         [10,  7,  0,  3,  8],\n",
       "         [10,  5,  8,  5, 12]]),\n",
       " 'output_seqs': tensor([[ 9,  3, 11, 12, 12],\n",
       "         [ 0,  5,  7,  3, 11],\n",
       "         [ 7,  1,  5,  6, 11],\n",
       "         ...,\n",
       "         [ 4,  7,  3, 11, 12],\n",
       "         [ 7,  0,  3,  8, 11],\n",
       "         [ 5,  8,  5, 11, 12]]),\n",
       " 'vocab_info': {'start_token': 10,\n",
       "  'end_token': 11,\n",
       "  'pad_token': 12,\n",
       "  'vocab_size': 13}}"
      ]
     },
     "execution_count": 79,
     "metadata": {},
     "output_type": "execute_result"
    }
   ],
   "execution_count": 79
  },
  {
   "metadata": {
    "ExecuteTime": {
     "end_time": "2025-06-24T13:58:12.470278Z",
     "start_time": "2025-06-24T13:58:12.467251Z"
    }
   },
   "cell_type": "code",
   "id": "f23ce2ff",
   "source": [
    "# insert values to zero'ed positional embedding tensor with shape 128x64\n",
    "# sines and cosines have shape 128x32\n",
    "pe[:, 0::2] = sines\n",
    "pe[:, 1::2] = cosines\n",
    "pe"
   ],
   "outputs": [
    {
     "data": {
      "text/plain": [
       "tensor([[ 0.0000e+00,  1.0000e+00,  0.0000e+00,  ...,  1.0000e+00,\n",
       "          0.0000e+00,  1.0000e+00],\n",
       "        [ 8.4147e-01,  5.4030e-01,  6.8156e-01,  ...,  1.0000e+00,\n",
       "          1.3335e-04,  1.0000e+00],\n",
       "        [ 9.0930e-01, -4.1615e-01,  9.9748e-01,  ...,  1.0000e+00,\n",
       "          2.6670e-04,  1.0000e+00],\n",
       "        ...,\n",
       "        [-6.1604e-01,  7.8771e-01, -4.8905e-01,  ...,  9.9975e-01,\n",
       "          1.6668e-02,  9.9986e-01],\n",
       "        [ 3.2999e-01,  9.4398e-01,  2.3663e-01,  ...,  9.9975e-01,\n",
       "          1.6802e-02,  9.9986e-01],\n",
       "        [ 9.7263e-01,  2.3236e-01,  8.3536e-01,  ...,  9.9975e-01,\n",
       "          1.6935e-02,  9.9986e-01]])"
      ]
     },
     "execution_count": 80,
     "metadata": {},
     "output_type": "execute_result"
    }
   ],
   "execution_count": 80
  },
  {
   "cell_type": "code",
   "id": "7f209bb2",
   "metadata": {
    "ExecuteTime": {
     "end_time": "2025-06-24T13:58:12.508004Z",
     "start_time": "2025-06-24T13:58:12.505693Z"
    }
   },
   "source": [
    "pe = pe.unsqueeze(0)\n",
    "pe.shape"
   ],
   "outputs": [
    {
     "data": {
      "text/plain": [
       "torch.Size([1, 128, 64])"
      ]
     },
     "execution_count": 81,
     "metadata": {},
     "output_type": "execute_result"
    }
   ],
   "execution_count": 81
  },
  {
   "cell_type": "code",
   "id": "ee198910",
   "metadata": {
    "ExecuteTime": {
     "end_time": "2025-06-24T13:58:12.552019Z",
     "start_time": "2025-06-24T13:58:12.548359Z"
    }
   },
   "source": [
    "pe"
   ],
   "outputs": [
    {
     "data": {
      "text/plain": [
       "tensor([[[ 0.0000e+00,  1.0000e+00,  0.0000e+00,  ...,  1.0000e+00,\n",
       "           0.0000e+00,  1.0000e+00],\n",
       "         [ 8.4147e-01,  5.4030e-01,  6.8156e-01,  ...,  1.0000e+00,\n",
       "           1.3335e-04,  1.0000e+00],\n",
       "         [ 9.0930e-01, -4.1615e-01,  9.9748e-01,  ...,  1.0000e+00,\n",
       "           2.6670e-04,  1.0000e+00],\n",
       "         ...,\n",
       "         [-6.1604e-01,  7.8771e-01, -4.8905e-01,  ...,  9.9975e-01,\n",
       "           1.6668e-02,  9.9986e-01],\n",
       "         [ 3.2999e-01,  9.4398e-01,  2.3663e-01,  ...,  9.9975e-01,\n",
       "           1.6802e-02,  9.9986e-01],\n",
       "         [ 9.7263e-01,  2.3236e-01,  8.3536e-01,  ...,  9.9975e-01,\n",
       "           1.6935e-02,  9.9986e-01]]])"
      ]
     },
     "execution_count": 82,
     "metadata": {},
     "output_type": "execute_result"
    }
   ],
   "execution_count": 82
  },
  {
   "cell_type": "code",
   "id": "7c8b22ce",
   "metadata": {
    "ExecuteTime": {
     "end_time": "2025-06-24T14:55:46.979628Z",
     "start_time": "2025-06-24T14:55:46.942804Z"
    }
   },
   "source": [
    "plt.imshow(image.reshape(28,28), cmap=\"gray\")\n",
    "plt.show()"
   ],
   "outputs": [
    {
     "data": {
      "text/plain": [
       "<Figure size 640x480 with 1 Axes>"
      ],
      "image/png": "[encoded data removed]"
     },
     "metadata": {},
     "output_type": "display_data"
    }
   ],
   "execution_count": 84
  },
  {
   "metadata": {
    "ExecuteTime": {
     "end_time": "2025-06-24T14:57:40.853838Z",
     "start_time": "2025-06-24T14:57:40.851694Z"
    }
   },
   "cell_type": "code",
   "source": "images.shape",
   "id": "b4928b6e422b3bed",
   "outputs": [
    {
     "data": {
      "text/plain": [
       "torch.Size([64, 1, 28, 28])"
      ]
     },
     "execution_count": 85,
     "metadata": {},
     "output_type": "execute_result"
    }
   ],
   "execution_count": 85
  },
  {
   "metadata": {
    "ExecuteTime": {
     "end_time": "2025-06-24T15:15:30.287718Z",
     "start_time": "2025-06-24T15:15:30.267778Z"
    }
   },
   "cell_type": "code",
   "source": [
    "device = utils.get_device()\n",
    "checkpoint = torch.load(\"data/simple.pth\", map_location=device)"
   ],
   "id": "f40bbd875d2a8a5c",
   "outputs": [],
   "execution_count": 106
  },
  {
   "metadata": {
    "ExecuteTime": {
     "end_time": "2025-06-24T15:16:26.523097Z",
     "start_time": "2025-06-24T15:16:26.519946Z"
    }
   },
   "cell_type": "code",
   "source": "model = models.Classifier(patch_size=7, model_dim=64, num_encoders=3, use_pe=True)",
   "id": "aae54ab994effaf",
   "outputs": [],
   "execution_count": 107
  },
  {
   "metadata": {
    "ExecuteTime": {
     "end_time": "2025-06-24T15:17:18.851732Z",
     "start_time": "2025-06-24T15:17:18.848665Z"
    }
   },
   "cell_type": "code",
   "source": [
    "model.to(device)\n",
    "model.load_state_dict(checkpoint[\"model_state_dict\"])"
   ],
   "id": "718c685759a3005b",
   "outputs": [
    {
     "data": {
      "text/plain": [
       "<All keys matched successfully>"
      ]
     },
     "execution_count": 112,
     "metadata": {},
     "output_type": "execute_result"
    }
   ],
   "execution_count": 112
  },
  {
   "metadata": {
    "ExecuteTime": {
     "end_time": "2025-06-24T15:21:09.443919Z",
     "start_time": "2025-06-24T15:21:09.441623Z"
    }
   },
   "cell_type": "code",
   "source": "pe = model.pe.pe",
   "id": "4c39aea7f4d51d8f",
   "outputs": [],
   "execution_count": 119
  },
  {
   "metadata": {
    "ExecuteTime": {
     "end_time": "2025-06-24T15:21:15.616416Z",
     "start_time": "2025-06-24T15:21:15.597192Z"
    }
   },
   "cell_type": "code",
   "source": "pe",
   "id": "5a1bf81a382cdc29",
   "outputs": [
    {
     "data": {
      "text/plain": [
       "tensor([[[ 0.0000e+00,  1.0000e+00,  0.0000e+00,  ...,  1.0000e+00,\n",
       "           0.0000e+00,  1.0000e+00],\n",
       "         [ 8.4147e-01,  5.4030e-01,  6.8156e-01,  ...,  1.0000e+00,\n",
       "           1.3335e-04,  1.0000e+00],\n",
       "         [ 9.0930e-01, -4.1615e-01,  9.9748e-01,  ...,  1.0000e+00,\n",
       "           2.6670e-04,  1.0000e+00],\n",
       "         ...,\n",
       "         [-9.6612e-01, -2.5810e-01,  9.8192e-01,  ...,  9.9994e-01,\n",
       "           8.1344e-03,  9.9997e-01],\n",
       "         [-7.3918e-01,  6.7351e-01,  5.8951e-01,  ...,  9.9994e-01,\n",
       "           8.2677e-03,  9.9997e-01],\n",
       "         [ 1.6736e-01,  9.8590e-01, -1.1916e-01,  ...,  9.9994e-01,\n",
       "           8.4011e-03,  9.9996e-01]]], device='mps:0')"
      ]
     },
     "execution_count": 120,
     "metadata": {},
     "output_type": "execute_result"
    }
   ],
   "execution_count": 120
  },
  {
   "metadata": {
    "ExecuteTime": {
     "end_time": "2025-06-24T15:21:19.251839Z",
     "start_time": "2025-06-24T15:21:19.246556Z"
    }
   },
   "cell_type": "code",
   "source": "pe.std().item()",
   "id": "f06211c9d7ae6c88",
   "outputs": [
    {
     "data": {
      "text/plain": [
       "0.5985070466995239"
      ]
     },
     "execution_count": 121,
     "metadata": {},
     "output_type": "execute_result"
    }
   ],
   "execution_count": 121
  },
  {
   "metadata": {
    "ExecuteTime": {
     "end_time": "2025-06-24T15:21:21.982819Z",
     "start_time": "2025-06-24T15:21:21.977892Z"
    }
   },
   "cell_type": "code",
   "source": "pe.mean().item()",
   "id": "b73fdbd31b70b26a",
   "outputs": [
    {
     "data": {
      "text/plain": [
       "0.37666529417037964"
      ]
     },
     "execution_count": 122,
     "metadata": {},
     "output_type": "execute_result"
    }
   ],
   "execution_count": 122
  },
  {
   "metadata": {
    "ExecuteTime": {
     "end_time": "2025-06-24T15:21:28.971760Z",
     "start_time": "2025-06-24T15:21:28.908540Z"
    }
   },
   "cell_type": "code",
   "source": [
    "plt.imshow(pe[0, :16].cpu())   # first batch, 16 tokens\n",
    "plt.colorbar()\n",
    "plt.title(\"Sinusoidal positional encoding (first 16 tokens)\")\n",
    "plt.show()"
   ],
   "id": "b5d545b2192c1373",
   "outputs": [
    {
     "data": {
      "text/plain": [
       "<Figure size 640x480 with 2 Axes>"
      ],
      "image/png": "[encoded data removed]"
     },
     "metadata": {},
     "output_type": "display_data"
    }
   ],
   "execution_count": 123
  },
  {
   "metadata": {
    "ExecuteTime": {
     "end_time": "2025-06-24T15:26:02.265620Z",
     "start_time": "2025-06-24T15:26:02.261141Z"
    }
   },
   "cell_type": "code",
   "source": [
    "blankpe = models.PositionalEncoding(64).pe[0]      # [max_len, 64]\n",
    "\n",
    "# Column 0 should be sin wave, column 1 a cos wave\n",
    "assert torch.allclose(blankpe[:4,0], torch.tensor([0., 0.8415, 0.9093, 0.1411]), atol=1e-3)\n",
    "\n",
    "# Column 63 (highest freq) should be almost exactly 0/1 for pos<16\n",
    "assert (blankpe[:16,63] - 1).abs().max() < 1e-3"
   ],
   "id": "91870aa75803c92a",
   "outputs": [],
   "execution_count": 126
  },
  {
   "metadata": {
    "ExecuteTime": {
     "end_time": "2025-06-24T15:28:50.371371Z",
     "start_time": "2025-06-24T15:28:50.367955Z"
    }
   },
   "cell_type": "code",
   "source": "blankpe.mean().item()",
   "id": "d6b4d1f705a04509",
   "outputs": [
    {
     "data": {
      "text/plain": [
       "0.37666529417037964"
      ]
     },
     "execution_count": 127,
     "metadata": {},
     "output_type": "execute_result"
    }
   ],
   "execution_count": 127
  },
  {
   "metadata": {
    "ExecuteTime": {
     "end_time": "2025-06-24T15:28:57.869495Z",
     "start_time": "2025-06-24T15:28:57.867217Z"
    }
   },
   "cell_type": "code",
   "source": "blankpe.std().item()",
   "id": "f0e1b8fd5b2d1a68",
   "outputs": [
    {
     "data": {
      "text/plain": [
       "0.5985070466995239"
      ]
     },
     "execution_count": 128,
     "metadata": {},
     "output_type": "execute_result"
    }
   ],
   "execution_count": 128
  },
  {
   "metadata": {},
   "cell_type": "code",
   "outputs": [],
   "execution_count": null,
   "source": "",
   "id": "37cfccd3dc31d6e5"
  }
 ],
 "metadata": {
  "kernelspec": {
   "display_name": "Python 3",
   "language": "python",
   "name": "python3"
  },
  "language_info": {
   "codemirror_mode": {
    "name": "ipython",
    "version": 2
   },
   "file_extension": ".py",
   "mimetype": "text/x-python",
   "name": "python",
   "nbconvert_exporter": "python",
   "pygments_lexer": "ipython2",
   "version": "2.7.6"
  }
 },
 "nbformat": 4,
 "nbformat_minor": 5
}
