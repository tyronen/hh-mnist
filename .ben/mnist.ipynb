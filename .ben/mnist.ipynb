{
 "cells": [
  {
   "cell_type": "code",
   "execution_count": 42,
   "id": "initial_id",
   "metadata": {
    "ExecuteTime": {
     "end_time": "2025-06-23T14:17:01.793162Z",
     "start_time": "2025-06-23T14:17:00.641867Z"
    },
    "collapsed": true
   },
   "outputs": [],
   "source": [
    "import torch\n",
    "import torch.nn as nn\n",
    "from torchvision import datasets\n",
    "from torchvision.transforms import v2\n",
    "import matplotlib.pyplot as plt\n",
    "from torch import optim\n",
    "from torch.utils.data import DataLoader\n",
    "import model as model"
   ]
  },
  {
   "cell_type": "code",
   "execution_count": 71,
   "id": "ee6f59aa199d6bdf",
   "metadata": {
    "ExecuteTime": {
     "end_time": "2025-06-23T14:17:01.853145Z",
     "start_time": "2025-06-23T14:17:01.848786Z"
    }
   },
   "outputs": [],
   "source": [
    "transform = v2.Compose([v2.ToImage(), v2.ToDtype(torch.float32, scale=True)])\n",
    "training_data = datasets.MNIST(\n",
    "    root=\"data\", train=True, download=True, transform=transform\n",
    ")\n",
    "training_dataloader = DataLoader(training_data, batch_size=1024, shuffle=False)\n",
    "\n"
   ]
  },
  {
   "cell_type": "code",
   "execution_count": 72,
   "id": "64ece317c38f5463",
   "metadata": {
    "ExecuteTime": {
     "end_time": "2025-06-23T14:17:01.865278Z",
     "start_time": "2025-06-23T14:17:01.860211Z"
    }
   },
   "outputs": [],
   "source": [
    "images, labels = next(iter(training_dataloader))\n"
   ]
  },
  {
   "cell_type": "code",
   "execution_count": 73,
   "id": "4d19019a607f0e53",
   "metadata": {
    "ExecuteTime": {
     "end_time": "2025-06-23T14:17:01.873823Z",
     "start_time": "2025-06-23T14:17:01.871456Z"
    }
   },
   "outputs": [
    {
     "data": {
      "text/plain": [
       "torch.Size([1024, 1, 28, 28])"
      ]
     },
     "execution_count": 73,
     "metadata": {},
     "output_type": "execute_result"
    }
   ],
   "source": [
    "images.shape\n"
   ]
  },
  {
   "cell_type": "code",
   "execution_count": 74,
   "id": "9d5cefa663e6a97a",
   "metadata": {
    "ExecuteTime": {
     "end_time": "2025-06-23T14:17:01.884291Z",
     "start_time": "2025-06-23T14:17:01.882573Z"
    }
   },
   "outputs": [
    {
     "data": {
      "text/plain": [
       "torch.Size([1024])"
      ]
     },
     "execution_count": 74,
     "metadata": {},
     "output_type": "execute_result"
    }
   ],
   "source": [
    "labels.shape"
   ]
  },
  {
   "cell_type": "code",
   "execution_count": 75,
   "id": "7ae728ba7a82990d",
   "metadata": {
    "ExecuteTime": {
     "end_time": "2025-06-23T14:18:54.904988Z",
     "start_time": "2025-06-23T14:18:54.900829Z"
    }
   },
   "outputs": [
    {
     "data": {
      "text/plain": [
       "tensor([5, 0, 4,  ..., 3, 7, 7])"
      ]
     },
     "execution_count": 75,
     "metadata": {},
     "output_type": "execute_result"
    }
   ],
   "source": [
    "labels"
   ]
  },
  {
   "cell_type": "code",
   "execution_count": 76,
   "id": "1181bf8839d64f5e",
   "metadata": {
    "ExecuteTime": {
     "end_time": "2025-06-23T14:17:01.947249Z",
     "start_time": "2025-06-23T14:17:01.909899Z"
    }
   },
   "outputs": [
    {
     "data": {
      "image/png": "[encoded data removed]",
      "text/plain": [
       "<Figure size 640x480 with 1 Axes>"
      ]
     },
     "metadata": {},
     "output_type": "display_data"
    }
   ],
   "source": [
    "plt.imshow(images[1].reshape(28,28), cmap=\"gray\")\n",
    "plt.show()"
   ]
  },
  {
   "cell_type": "code",
   "execution_count": 77,
   "id": "284642f221bc2d9f",
   "metadata": {
    "ExecuteTime": {
     "end_time": "2025-06-23T14:17:01.955654Z",
     "start_time": "2025-06-23T14:17:01.954230Z"
    }
   },
   "outputs": [],
   "source": [
    "image = images[1]"
   ]
  },
  {
   "cell_type": "code",
   "execution_count": 78,
   "id": "20375536221c1e0a",
   "metadata": {
    "ExecuteTime": {
     "end_time": "2025-06-23T14:17:01.967631Z",
     "start_time": "2025-06-23T14:17:01.966302Z"
    }
   },
   "outputs": [],
   "source": [
    "c, h, w = image.shape"
   ]
  },
  {
   "cell_type": "code",
   "execution_count": 79,
   "id": "9d52c96f",
   "metadata": {},
   "outputs": [
    {
     "data": {
      "text/plain": [
       "torch.Size([1, 28, 28])"
      ]
     },
     "execution_count": 79,
     "metadata": {},
     "output_type": "execute_result"
    }
   ],
   "source": [
    "image.shape"
   ]
  },
  {
   "cell_type": "code",
   "execution_count": 80,
   "id": "68392518278de410",
   "metadata": {
    "ExecuteTime": {
     "end_time": "2025-06-23T14:17:01.978083Z",
     "start_time": "2025-06-23T14:17:01.975447Z"
    }
   },
   "outputs": [
    {
     "name": "stdout",
     "output_type": "stream",
     "text": [
      "torch.Size([1024, 196, 4])\n"
     ]
    }
   ],
   "source": [
    "patch_size = 14\n",
    "stride = 14\n",
    "\n",
    "unfolder = nn.Unfold(kernel_size=patch_size, stride=stride)\n",
    "patches = unfolder(images)\n",
    "\n",
    "print(patches.shape)"
   ]
  },
  {
   "cell_type": "code",
   "execution_count": 53,
   "id": "5d6aaf2292384288",
   "metadata": {
    "ExecuteTime": {
     "end_time": "2025-06-23T14:17:01.987568Z",
     "start_time": "2025-06-23T14:17:01.985543Z"
    }
   },
   "outputs": [
    {
     "data": {
      "text/plain": [
       "torch.Size([64, 196, 4])"
      ]
     },
     "execution_count": 53,
     "metadata": {},
     "output_type": "execute_result"
    }
   ],
   "source": [
    "patches.shape"
   ]
  },
  {
   "cell_type": "code",
   "execution_count": 83,
   "id": "3d53b40168095fac",
   "metadata": {
    "ExecuteTime": {
     "end_time": "2025-06-23T14:17:01.996173Z",
     "start_time": "2025-06-23T14:17:01.994658Z"
    }
   },
   "outputs": [],
   "source": [
    "rotated = patches.transpose(-2, -1)      # (batch_size, num_patches, patch_size * patch_size)\n"
   ]
  },
  {
   "cell_type": "code",
   "execution_count": 82,
   "id": "dda1167e320d3ce3",
   "metadata": {
    "ExecuteTime": {
     "end_time": "2025-06-23T14:17:02.005704Z",
     "start_time": "2025-06-23T14:17:02.003960Z"
    }
   },
   "outputs": [
    {
     "data": {
      "text/plain": [
       "torch.Size([64, 4, 196])"
      ]
     },
     "execution_count": 82,
     "metadata": {},
     "output_type": "execute_result"
    }
   ],
   "source": [
    "rotated.shape"
   ]
  },
  {
   "cell_type": "code",
   "execution_count": 56,
   "id": "88f52e346db9cef",
   "metadata": {
    "ExecuteTime": {
     "end_time": "2025-06-23T14:17:02.014613Z",
     "start_time": "2025-06-23T14:17:02.012801Z"
    }
   },
   "outputs": [],
   "source": [
    "linear = nn.Linear(196, 64, bias=False)"
   ]
  },
  {
   "cell_type": "code",
   "execution_count": 57,
   "id": "86959122f347d5ad",
   "metadata": {
    "ExecuteTime": {
     "end_time": "2025-06-23T14:17:02.023204Z",
     "start_time": "2025-06-23T14:17:02.021594Z"
    }
   },
   "outputs": [],
   "source": [
    "result = linear(rotated)"
   ]
  },
  {
   "cell_type": "code",
   "execution_count": 58,
   "id": "192b6f975bcf9468",
   "metadata": {
    "ExecuteTime": {
     "end_time": "2025-06-23T14:17:02.032206Z",
     "start_time": "2025-06-23T14:17:02.030529Z"
    }
   },
   "outputs": [
    {
     "data": {
      "text/plain": [
       "torch.Size([64, 4, 64])"
      ]
     },
     "execution_count": 58,
     "metadata": {},
     "output_type": "execute_result"
    }
   ],
   "source": [
    "result.shape"
   ]
  },
  {
   "cell_type": "code",
   "execution_count": 59,
   "id": "b4c0dc3548e3b2c",
   "metadata": {
    "ExecuteTime": {
     "end_time": "2025-06-23T14:17:02.041874Z",
     "start_time": "2025-06-23T14:17:02.040125Z"
    }
   },
   "outputs": [
    {
     "data": {
      "text/plain": [
       "torch.Size([4, 196])"
      ]
     },
     "execution_count": 59,
     "metadata": {},
     "output_type": "execute_result"
    }
   ],
   "source": [
    "rotated[0].shape"
   ]
  },
  {
   "cell_type": "code",
   "execution_count": 60,
   "id": "655782b4f982881",
   "metadata": {
    "ExecuteTime": {
     "end_time": "2025-06-23T14:17:02.083780Z",
     "start_time": "2025-06-23T14:17:02.082424Z"
    }
   },
   "outputs": [],
   "source": [
    "loss_fn = nn.CrossEntropyLoss()"
   ]
  },
  {
   "cell_type": "code",
   "execution_count": 61,
   "id": "b03035f93a60f5ca",
   "metadata": {
    "ExecuteTime": {
     "end_time": "2025-06-23T14:23:05.696991Z",
     "start_time": "2025-06-23T14:23:05.688050Z"
    }
   },
   "outputs": [],
   "source": [
    "patchify = model.Patchify(14, 14, 64)\n"
   ]
  },
  {
   "cell_type": "code",
   "execution_count": 62,
   "id": "a924866187b41e8b",
   "metadata": {
    "ExecuteTime": {
     "end_time": "2025-06-23T14:23:07.536278Z",
     "start_time": "2025-06-23T14:23:07.533117Z"
    }
   },
   "outputs": [
    {
     "data": {
      "text/plain": [
       "torch.Size([64, 4, 64])"
      ]
     },
     "execution_count": 62,
     "metadata": {},
     "output_type": "execute_result"
    }
   ],
   "source": [
    "result.shape"
   ]
  },
  {
   "cell_type": "code",
   "execution_count": 63,
   "id": "f2dfefc42709ab15",
   "metadata": {
    "ExecuteTime": {
     "end_time": "2025-06-23T14:23:50.214701Z",
     "start_time": "2025-06-23T14:23:50.212269Z"
    }
   },
   "outputs": [],
   "source": [
    "meaned = result.mean(dim=1)"
   ]
  },
  {
   "cell_type": "code",
   "execution_count": 64,
   "id": "58b492cbc9d0e660",
   "metadata": {
    "ExecuteTime": {
     "end_time": "2025-06-23T14:23:53.279754Z",
     "start_time": "2025-06-23T14:23:53.277414Z"
    }
   },
   "outputs": [
    {
     "data": {
      "text/plain": [
       "torch.Size([64, 64])"
      ]
     },
     "execution_count": 64,
     "metadata": {},
     "output_type": "execute_result"
    }
   ],
   "source": [
    "meaned.shape"
   ]
  },
  {
   "cell_type": "code",
   "execution_count": 65,
   "id": "9d1c927f080af97f",
   "metadata": {
    "ExecuteTime": {
     "end_time": "2025-06-23T14:24:18.203758Z",
     "start_time": "2025-06-23T14:24:18.199975Z"
    }
   },
   "outputs": [
    {
     "data": {
      "text/plain": [
       "torch.Size([64])"
      ]
     },
     "execution_count": 65,
     "metadata": {},
     "output_type": "execute_result"
    }
   ],
   "source": [
    "labels.shape"
   ]
  },
  {
   "cell_type": "code",
   "execution_count": 66,
   "id": "f62a30902f0845f4",
   "metadata": {
    "ExecuteTime": {
     "end_time": "2025-06-23T14:24:39.536016Z",
     "start_time": "2025-06-23T14:24:39.534388Z"
    }
   },
   "outputs": [],
   "source": [
    "loss_fn = nn.CrossEntropyLoss()"
   ]
  },
  {
   "cell_type": "code",
   "execution_count": 67,
   "id": "8957374f3cada625",
   "metadata": {
    "ExecuteTime": {
     "end_time": "2025-06-23T14:25:09.640611Z",
     "start_time": "2025-06-23T14:25:09.638395Z"
    }
   },
   "outputs": [],
   "source": [
    "loss= loss_fn(meaned, labels)"
   ]
  },
  {
   "cell_type": "code",
   "execution_count": 68,
   "id": "d31088927741a88f",
   "metadata": {
    "ExecuteTime": {
     "end_time": "2025-06-23T14:25:11.074657Z",
     "start_time": "2025-06-23T14:25:11.053567Z"
    }
   },
   "outputs": [],
   "source": [
    "loss.backward()"
   ]
  },
  {
   "cell_type": "code",
   "execution_count": null,
   "id": "4fdd55715722d0f7",
   "metadata": {},
   "outputs": [],
   "source": []
  }
 ],
 "metadata": {
  "kernelspec": {
   "display_name": ".venv",
   "language": "python",
   "name": "python3"
  },
  "language_info": {
   "codemirror_mode": {
    "name": "ipython",
    "version": 3
   },
   "file_extension": ".py",
   "mimetype": "text/x-python",
   "name": "python",
   "nbconvert_exporter": "python",
   "pygments_lexer": "ipython3",
   "version": "3.10.17"
  }
 },
 "nbformat": 4,
 "nbformat_minor": 5
}
