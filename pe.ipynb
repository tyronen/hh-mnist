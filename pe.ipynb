{
 "cells": [
  {
   "cell_type": "code",
   "execution_count": 176,
   "id": "07a33005",
   "metadata": {},
   "outputs": [
    {
     "data": {
      "text/plain": [
       "10000"
      ]
     },
     "execution_count": 176,
     "metadata": {},
     "output_type": "execute_result"
    }
   ],
   "source": [
    "\n",
    "import math\n",
    "\n",
    "import torch\n",
    "from torch.utils.data import DataLoader\n",
    "from torchvision import datasets\n",
    "from torchvision.transforms import v2\n",
    "\n",
    "from models import Patchify\n",
    "\n",
    "batch_size = 128\n",
    "model_dim = 64\n",
    "\n",
    "transform = v2.Compose([v2.ToImage(), v2.ToDtype(torch.float32, scale=True)])\n",
    "data = datasets.MNIST(root=\"data\", train=False, download=True, transform=transform)\n",
    "dl = DataLoader(data, batch_size=batch_size, shuffle=False)\n",
    "len(data)\n",
    "    \n"
   ]
  },
  {
   "cell_type": "code",
   "execution_count": 177,
   "id": "a178989e",
   "metadata": {},
   "outputs": [
    {
     "name": "stdout",
     "output_type": "stream",
     "text": [
      "Batch 0: images.shape = torch.Size([128, 1, 28, 28]), labels.shape = torch.Size([128])\n"
     ]
    },
    {
     "data": {
      "text/plain": [
       "torch.Size([128, 1, 28, 28])"
      ]
     },
     "execution_count": 177,
     "metadata": {},
     "output_type": "execute_result"
    }
   ],
   "source": [
    "for batch, (images, labels) in enumerate(dl):\n",
    "    # batch size of 128 yields 78 batches from 10_000 test images\n",
    "    print(f\"Batch {batch}: images.shape = {images.shape}, labels.shape = {labels.shape}\")\n",
    "    break\n",
    "\n",
    "# get first batch only for play\n",
    "x, y = next(iter(dl))\n",
    "x.shape"
   ]
  },
  {
   "cell_type": "code",
   "execution_count": 178,
   "id": "1c5368b0",
   "metadata": {},
   "outputs": [
    {
     "data": {
      "text/plain": [
       "torch.Size([128, 16, 64])"
      ]
     },
     "execution_count": 178,
     "metadata": {},
     "output_type": "execute_result"
    }
   ],
   "source": [
    "\n",
    "patchify = Patchify(patch_size=7, model_dim=model_dim)\n",
    "patched = patchify(x)\n",
    "patched.shape  # 128x1x28x28 -> 128x16x64"
   ]
  },
  {
   "cell_type": "code",
   "execution_count": 179,
   "id": "c3e644bb",
   "metadata": {},
   "outputs": [
    {
     "data": {
      "text/plain": [
       "torch.Size([16, 64])"
      ]
     },
     "execution_count": 179,
     "metadata": {},
     "output_type": "execute_result"
    }
   ],
   "source": [
    "# build simplest/smallest positional encoding from scratch\n",
    "max_len = 16\n",
    "pe = torch.zeros(max_len, model_dim)\n",
    "pe.shape\n",
    "# note that pe.shape here is one image as 16 patches in 64 dims, i.e. same as one item from the patch batch\n"
   ]
  },
  {
   "cell_type": "code",
   "execution_count": 180,
   "id": "b8674a38",
   "metadata": {},
   "outputs": [
    {
     "data": {
      "text/plain": [
       "tensor([ 0.,  1.,  2.,  3.,  4.,  5.,  6.,  7.,  8.,  9., 10., 11., 12., 13.,\n",
       "        14., 15.])"
      ]
     },
     "execution_count": 180,
     "metadata": {},
     "output_type": "execute_result"
    }
   ],
   "source": [
    "position = torch.arange(0, max_len, dtype=torch.float)\n",
    "position  # 0, 1, 2, ..., 15"
   ]
  },
  {
   "cell_type": "code",
   "execution_count": 181,
   "id": "743a21a8",
   "metadata": {},
   "outputs": [
    {
     "data": {
      "text/plain": [
       "torch.Size([16, 1])"
      ]
     },
     "execution_count": 181,
     "metadata": {},
     "output_type": "execute_result"
    }
   ],
   "source": [
    "# turn each position int into its own row\n",
    "position = position.unsqueeze(1)\n",
    "position.shape"
   ]
  },
  {
   "cell_type": "code",
   "execution_count": 182,
   "id": "9098c0b6",
   "metadata": {},
   "outputs": [
    {
     "data": {
      "text/plain": [
       "0.14391156831212787"
      ]
     },
     "execution_count": 182,
     "metadata": {},
     "output_type": "execute_result"
    }
   ],
   "source": [
    "magic = math.log(10_000.0) / model_dim  # 10_000 is a magic number worked out by Vaswani et al.\n",
    "magic"
   ]
  },
  {
   "cell_type": "code",
   "execution_count": 183,
   "id": "af056e68",
   "metadata": {},
   "outputs": [
    {
     "data": {
      "text/plain": [
       "torch.Size([32])"
      ]
     },
     "execution_count": 183,
     "metadata": {},
     "output_type": "execute_result"
    }
   ],
   "source": [
    "# we want to alternate between adding sine and cosine values to even/odd indices\n",
    "even_positions = torch.arange(0, model_dim, 2)\n",
    "even_positions.shape"
   ]
  },
  {
   "cell_type": "code",
   "execution_count": 184,
   "id": "8f14bfd4",
   "metadata": {},
   "outputs": [
    {
     "data": {
      "text/plain": [
       "tensor([-0.0000, -0.2878, -0.5756, -0.8635, -1.1513, -1.4391, -1.7269, -2.0148,\n",
       "        -2.3026, -2.5904, -2.8782, -3.1661, -3.4539, -3.7417, -4.0295, -4.3173,\n",
       "        -4.6052, -4.8930, -5.1808, -5.4686, -5.7565, -6.0443, -6.3321, -6.6199,\n",
       "        -6.9078, -7.1956, -7.4834, -7.7712, -8.0590, -8.3469, -8.6347, -8.9225])"
      ]
     },
     "execution_count": 184,
     "metadata": {},
     "output_type": "execute_result"
    }
   ],
   "source": [
    "# apply magic scalar to div tensor\n",
    "div_terms = even_positions * - magic\n",
    "div_terms"
   ]
  },
  {
   "cell_type": "code",
   "execution_count": null,
   "id": "1c0461ed",
   "metadata": {},
   "outputs": [
    {
     "data": {
      "text/plain": [
       "tensor([1.0000, 1.0423, 1.0864, 1.1323, 1.1802, 1.2301, 1.2821, 1.3364, 1.3929,\n",
       "        1.4518, 1.5132, 1.5772, 1.6439, 1.7134, 1.7859, 1.8614, 1.9401, 2.0221,\n",
       "        2.1077, 2.1968, 2.2897, 2.3865, 2.4875, 2.5927, 2.7023, 2.8166, 2.9357,\n",
       "        3.0599, 3.1893, 3.3241, 3.4647, 3.6112])"
      ]
     },
     "execution_count": 185,
     "metadata": {},
     "output_type": "execute_result"
    }
   ],
   "source": [
    "# here we essentially compute the denominator for the sine/cosine functions (10000^(2i/model_dim))\n",
    "div_terms = torch.exp(div_terms)\n",
    "div_terms  # shape: 32"
   ]
  },
  {
   "cell_type": "code",
   "execution_count": 186,
   "id": "18b9a9aa",
   "metadata": {},
   "outputs": [
    {
     "data": {
      "text/plain": [
       "tensor([[ 0.0000,  0.0000,  0.0000,  0.0000,  0.0000,  0.0000,  0.0000,  0.0000,\n",
       "          0.0000,  0.0000,  0.0000,  0.0000,  0.0000,  0.0000,  0.0000,  0.0000,\n",
       "          0.0000,  0.0000,  0.0000,  0.0000,  0.0000,  0.0000,  0.0000,  0.0000,\n",
       "          0.0000,  0.0000,  0.0000,  0.0000,  0.0000,  0.0000,  0.0000,  0.0000],\n",
       "        [ 1.0000,  1.0423,  1.0864,  1.1323,  1.1802,  1.2301,  1.2821,  1.3364,\n",
       "          1.3929,  1.4518,  1.5132,  1.5772,  1.6439,  1.7134,  1.7859,  1.8614,\n",
       "          1.9401,  2.0221,  2.1077,  2.1968,  2.2897,  2.3865,  2.4875,  2.5927,\n",
       "          2.7023,  2.8166,  2.9357,  3.0599,  3.1893,  3.3241,  3.4647,  3.6112],\n",
       "        [ 2.0000,  2.0846,  2.1727,  2.2646,  2.3604,  2.4602,  2.5643,  2.6727,\n",
       "          2.7857,  2.9036,  3.0264,  3.1543,  3.2877,  3.4268,  3.5717,  3.7228,\n",
       "          3.8802,  4.0443,  4.2153,  4.3936,  4.5794,  4.7731,  4.9749,  5.1853,\n",
       "          5.4046,  5.6332,  5.8714,  6.1197,  6.3785,  6.6483,  6.9294,  7.2225],\n",
       "        [ 3.0000,  3.1269,  3.2591,  3.3969,  3.5406,  3.6903,  3.8464,  4.0091,\n",
       "          4.1786,  4.3553,  4.5395,  4.7315,  4.9316,  5.1402,  5.3576,  5.5841,\n",
       "          5.8203,  6.0664,  6.3230,  6.5904,  6.8691,  7.1596,  7.4624,  7.7780,\n",
       "          8.1069,  8.4498,  8.8071,  9.1796,  9.5678,  9.9724, 10.3942, 10.8337],\n",
       "        [ 4.0000,  4.1692,  4.3455,  4.5293,  4.7208,  4.9204,  5.1285,  5.3454,\n",
       "          5.5715,  5.8071,  6.0527,  6.3087,  6.5755,  6.8536,  7.1434,  7.4455,\n",
       "          7.7604,  8.0886,  8.4306,  8.7872,  9.1588,  9.5461,  9.9499, 10.3706,\n",
       "         10.8092, 11.2664, 11.7428, 12.2394, 12.7571, 13.2966, 13.8589, 14.4450],\n",
       "        [ 5.0000,  5.2115,  5.4319,  5.6616,  5.9010,  6.1506,  6.4107,  6.6818,\n",
       "          6.9644,  7.2589,  7.5659,  7.8858,  8.2193,  8.5670,  8.9293,  9.3069,\n",
       "          9.7005, 10.1107, 10.5383, 10.9840, 11.4485, 11.9327, 12.4373, 12.9633,\n",
       "         13.5115, 14.0830, 14.6785, 15.2993, 15.9463, 16.6207, 17.3236, 18.0562],\n",
       "        [ 6.0000,  6.2537,  6.5182,  6.7939,  7.0812,  7.3807,  7.6928,  8.0181,\n",
       "          8.3572,  8.7107,  9.0791,  9.4630,  9.8632, 10.2803, 10.7151, 11.1683,\n",
       "         11.6406, 12.1329, 12.6460, 13.1808, 13.7382, 14.3192, 14.9248, 15.5560,\n",
       "         16.2138, 16.8995, 17.6142, 18.3592, 19.1356, 19.9448, 20.7883, 21.6675],\n",
       "        [ 7.0000,  7.2960,  7.6046,  7.9262,  8.2614,  8.6108,  8.9749,  9.3545,\n",
       "          9.7501, 10.1625, 10.5922, 11.0402, 11.5071, 11.9937, 12.5010, 13.0296,\n",
       "         13.5807, 14.1550, 14.7536, 15.3776, 16.0279, 16.7057, 17.4122, 18.1486,\n",
       "         18.9162, 19.7161, 20.5499, 21.4190, 22.3248, 23.2690, 24.2531, 25.2787],\n",
       "        [ 8.0000,  8.3383,  8.6910,  9.0585,  9.4416,  9.8409, 10.2571, 10.6909,\n",
       "         11.1430, 11.6142, 12.1054, 12.6174, 13.1510, 13.7071, 14.2868, 14.8910,\n",
       "         15.5208, 16.1772, 16.8613, 17.5744, 18.3176, 19.0923, 19.8997, 20.7413,\n",
       "         21.6185, 22.5327, 23.4856, 24.4789, 25.5141, 26.5931, 27.7178, 28.8900],\n",
       "        [ 9.0000,  9.3806,  9.7773, 10.1908, 10.6218, 11.0710, 11.5392, 12.0272,\n",
       "         12.5359, 13.0660, 13.6186, 14.1945, 14.7948, 15.4205, 16.0727, 16.7524,\n",
       "         17.4609, 18.1993, 18.9690, 19.7712, 20.6073, 21.4788, 22.3872, 23.3340,\n",
       "         24.3208, 25.3493, 26.4214, 27.5387, 28.7034, 29.9173, 31.1825, 32.5012],\n",
       "        [10.0000, 10.4229, 10.8637, 11.3231, 11.8020, 12.3011, 12.8213, 13.3636,\n",
       "         13.9287, 14.5178, 15.1318, 15.7717, 16.4387, 17.1339, 17.8585, 18.6138,\n",
       "         19.4010, 20.2214, 21.0766, 21.9680, 22.8970, 23.8654, 24.8746, 25.9266,\n",
       "         27.0231, 28.1659, 29.3571, 30.5986, 31.8926, 33.2414, 34.6472, 36.1125],\n",
       "        [11.0000, 11.4652, 11.9501, 12.4555, 12.9822, 13.5312, 14.1035, 14.6999,\n",
       "         15.3216, 15.9696, 16.6449, 17.3489, 18.0826, 18.8473, 19.6444, 20.4751,\n",
       "         21.3411, 22.2436, 23.1843, 24.1648, 25.1867, 26.2519, 27.3621, 28.5193,\n",
       "         29.7254, 30.9825, 32.2928, 33.6585, 35.0819, 36.5656, 38.1119, 39.7237],\n",
       "        [12.0000, 12.5075, 13.0364, 13.5878, 14.1624, 14.7613, 15.3856, 16.0363,\n",
       "         16.7145, 17.4213, 18.1581, 18.9260, 19.7264, 20.5607, 21.4302, 22.3365,\n",
       "         23.2811, 24.2657, 25.2920, 26.3616, 27.4764, 28.6384, 29.8496, 31.1119,\n",
       "         32.4277, 33.7991, 35.2285, 36.7183, 38.2712, 39.8897, 41.5767, 43.3350],\n",
       "        [13.0000, 13.5498, 14.1228, 14.7201, 15.3426, 15.9915, 16.6678, 17.3726,\n",
       "         18.1074, 18.8731, 19.6713, 20.5032, 21.3703, 22.2741, 23.2161, 24.1979,\n",
       "         25.2212, 26.2879, 27.3996, 28.5584, 29.7661, 31.0250, 32.3370, 33.7046,\n",
       "         35.1300, 36.6157, 38.1642, 39.7782, 41.4604, 43.2138, 45.0414, 46.9462],\n",
       "        [14.0000, 14.5921, 15.2092, 15.8524, 16.5228, 17.2216, 17.9499, 18.7090,\n",
       "         19.5002, 20.3249, 21.1845, 22.0804, 23.0142, 23.9875, 25.0019, 26.0593,\n",
       "         27.1613, 28.3100, 29.5073, 30.7552, 32.0558, 33.4115, 34.8245, 36.2973,\n",
       "         37.8323, 39.4323, 41.0999, 42.8380, 44.6497, 46.5380, 48.5061, 50.5575],\n",
       "        [15.0000, 15.6344, 16.2956, 16.9847, 17.7030, 18.4517, 19.2320, 20.0454,\n",
       "         20.8931, 21.7767, 22.6976, 23.6575, 24.6580, 25.7009, 26.7878, 27.9206,\n",
       "         29.1014, 30.3322, 31.6149, 32.9520, 34.3455, 35.7980, 37.3120, 38.8899,\n",
       "         40.5346, 42.2489, 44.0356, 45.8979, 47.8390, 49.8621, 51.9708, 54.1687]])"
      ]
     },
     "execution_count": 186,
     "metadata": {},
     "output_type": "execute_result"
    }
   ],
   "source": [
    "half_len = position * div_terms  # basically applies each position int as a scalar factor to div_terms\n",
    "half_len  # 16x1 * 32 -> 16x32"
   ]
  },
  {
   "cell_type": "code",
   "execution_count": 187,
   "id": "5690d13d",
   "metadata": {},
   "outputs": [
    {
     "ename": "NameError",
     "evalue": "name 'self' is not defined",
     "output_type": "error",
     "traceback": [
      "\u001b[0;31m---------------------------------------------------------------------------\u001b[0m",
      "\u001b[0;31mNameError\u001b[0m                                 Traceback (most recent call last)",
      "Cell \u001b[0;32mIn[187], line 3\u001b[0m\n\u001b[1;32m      1\u001b[0m \u001b[38;5;66;03m# pe was formally a tensor of zeroes, now we fill it \u001b[39;00m\n\u001b[1;32m      2\u001b[0m pe[:, \u001b[38;5;241m0\u001b[39m::\u001b[38;5;241m2\u001b[39m] \u001b[38;5;241m=\u001b[39m torch\u001b[38;5;241m.\u001b[39msin(position \u001b[38;5;241m*\u001b[39m div_tensor)\n\u001b[0;32m----> 3\u001b[0m \u001b[38;5;28;43mself\u001b[39;49m\u001b[38;5;241m.\u001b[39mpe[:, \u001b[38;5;241m1\u001b[39m::\u001b[38;5;241m2\u001b[39m] \u001b[38;5;241m=\u001b[39m torch\u001b[38;5;241m.\u001b[39mcos(position \u001b[38;5;241m*\u001b[39m div_term)\n\u001b[1;32m      4\u001b[0m pe\n",
      "\u001b[0;31mNameError\u001b[0m: name 'self' is not defined"
     ]
    }
   ],
   "source": [
    "# pe was formally a tensor of zeroes, now we fill it \n",
    "pe[:, 0::2] = torch.sin(position * div_tensor)\n",
    "self.pe[:, 1::2] = torch.cos(position * div_term)\n",
    "pe"
   ]
  },
  {
   "cell_type": "code",
   "execution_count": null,
   "id": "44f31813",
   "metadata": {},
   "outputs": [],
   "source": []
  }
 ],
 "metadata": {
  "kernelspec": {
   "display_name": "hh-mnist",
   "language": "python",
   "name": "python3"
  },
  "language_info": {
   "codemirror_mode": {
    "name": "ipython",
    "version": 3
   },
   "file_extension": ".py",
   "mimetype": "text/x-python",
   "name": "python",
   "nbconvert_exporter": "python",
   "pygments_lexer": "ipython3",
   "version": "3.10.18"
  }
 },
 "nbformat": 4,
 "nbformat_minor": 5
}
